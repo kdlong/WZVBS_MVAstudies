{
 "cells": [
  {
   "cell_type": "code",
   "execution_count": 889,
   "metadata": {},
   "outputs": [],
   "source": [
    "import uproot\n",
    "import uproot_methods\n",
    "import pandas"
   ]
  },
  {
   "cell_type": "code",
   "execution_count": 1045,
   "metadata": {},
   "outputs": [],
   "source": [
    "def pthard(df, objs):\n",
    "    df[\"sumHard\"] = uproot_methods.TLorentzVector(0.,0.,0.,0.)\n",
    "    df[\"sumptHard\"] = 0.\n",
    "    for obj in objs:\n",
    "        df[\"sumHard\"] += df[obj]\n",
    "        df[\"sumptHard\"] += df.apply(lambda x: x[obj].pt, axis=1)\n",
    "    df[\"RptHard\"] = df.apply(lambda x: x[\"sumHard\"].pt/x[\"sumptHard\"], axis=1)\n",
    "    return df"
   ]
  },
  {
   "cell_type": "code",
   "execution_count": 1079,
   "metadata": {},
   "outputs": [],
   "source": [
    "def add_Rpthard(df, objs):\n",
    "    new_df = pandas.DataFrame()\n",
    "    for obj in objs:\n",
    "        obj_pt = \"%sPt\" % obj if (\"%sPt\" % obj) in df else \"%sEt\" % obj\n",
    "        obj_eta = \"%sEta\" % obj if (\"%sEta\" % obj) in df else None\n",
    "        obj_phi = \"%sPhi\" % obj\n",
    "        obj_m = \"%sMass\" % obj if (\"%sMass\" % obj) in df else None\n",
    "        print(obj, obj_pt, obj_eta, obj_phi, obj_m)\n",
    "        new_df[obj] = df.apply(lambda x: uproot_methods.TLorentzVector.from_ptetaphim(x[obj_pt], \n",
    "                                                x[obj_eta] if obj_eta else 0, x[obj_phi], (x[obj_m] if obj_m else 0)), axis=1)\n",
    "    df[\"RptHard\"] = pthard(new_df, objs)[\"RptHard\"]"
   ]
  },
  {
   "cell_type": "code",
   "execution_count": 1180,
   "metadata": {},
   "outputs": [],
   "source": [
    "def prepareDataset(dataset, chan, drop=[]):\n",
    "    leps = [\"e1\", \"e2\", \"e3\"]\n",
    "    if chan == \"eem\":\n",
    "        leps = [\"e1\", \"e2\", \"m\"]\n",
    "    elif chan == \"emm\":\n",
    "        leps = [\"m1\", \"m2\", \"e\"]\n",
    "    elif chan == \"mmm\":\n",
    "        leps = [\"m1\", \"m2\", \"m3\"]\n",
    "        \n",
    "    readvars = [\"jetPt\", \"jetEta\", \"jetPhi\", \"nJets\", \"Mass\", \"MTWZ\", \"mjj\", \"Eta\", \"type1_pfMETEt\", \"type1_pfMETPhi\"]\n",
    "    addPart = lambda x: [x+\"Pt\", x+\"Mass\", x+\"Eta\", x+\"Phi\"]\n",
    "    for lep in leps:\n",
    "        readvars.extend(addPart(lep))\n",
    "        \n",
    "    df = dataset[chan][\"ntuple\"].pandas.df(readvars, flatten=False)\n",
    "    filtered_df = df[df[\"mjj\"] > 200.].copy()\n",
    "    filtered_df[\"j1Pt\"] = filtered_df[\"jetPt\"].str[0]\n",
    "    filtered_df[\"j2Pt\"] = filtered_df[\"jetPt\"].str[1]\n",
    "    filtered_df[\"j1Phi\"] = filtered_df[\"jetPhi\"].str[0]\n",
    "    filtered_df[\"j2Phi\"] = filtered_df[\"jetPhi\"].str[1]\n",
    "    filtered_df[\"j1Eta\"] = filtered_df[\"jetEta\"].str[0]\n",
    "    filtered_df[\"j2Eta\"] = filtered_df[\"jetEta\"].str[1]\n",
    "    filtered_df[\"dEtajj\"] = filtered_df[\"j1Eta\"] - filtered_df[\"j2Eta\"]\n",
    "    filtered_df[\"dPhijj\"] = filtered_df[\"j1Phi\"] - filtered_df[\"j2Phi\"]\n",
    "    filtered_df[\"etas3l\"] = filtered_df[\"Eta\"] - 0.5*(filtered_df[\"j1Eta\"] + filtered_df[\"j2Eta\"])\n",
    "    filtered_df[\"etasl1\"] = filtered_df[\"%sEta\" % leps[0]] - 0.5*(filtered_df[\"j1Eta\"] + filtered_df[\"j2Eta\"])\n",
    "    filtered_df[\"etasl2\"] = filtered_df[\"%sEta\" % leps[1]] - 0.5*(filtered_df[\"j1Eta\"] + filtered_df[\"j2Eta\"])\n",
    "    filtered_df[\"etasl3\"] = filtered_df[\"%sEta\" % leps[2]] - 0.5*(filtered_df[\"j1Eta\"] + filtered_df[\"j2Eta\"])\n",
    "    filtered_df[\"zep3l\"] = filtered_df[\"etas3l\"]/filtered_df[\"dEtajj\"]\n",
    "    filtered_df[\"zepl1\"] = filtered_df[\"etasl1\"]/filtered_df[\"dEtajj\"]\n",
    "    filtered_df[\"zepl2\"] = filtered_df[\"etasl2\"]/filtered_df[\"dEtajj\"]\n",
    "    filtered_df[\"zepl3\"] = filtered_df[\"etasl3\"]/filtered_df[\"dEtajj\"]\n",
    "    \n",
    "    #add_Rpthard(filtered_df, leps+[\"type1_pfMET\", \"j1\", \"j2\"])\n",
    "    \n",
    "    filtered_df = filtered_df.drop([\"jetEta\", \"jetPt\", \"jetPhi\"], axis=1)\n",
    "    #default_drop = [\"Mass\", \"MtToMET\", \"type1_pfMETEt\", \"nJets\", \"Eta\"]\n",
    "    default_drop = [\"MtToMET\", \"type1_pfMETEt\", \"type1_pfMETPhi\", \"nJets\", \"Eta\", \"etas3l\", \"etasl1\", \n",
    "                    \"etasl2\", \"etasl3\", \"j1Pt\", \"j1Phi\", \"j1Eta\", \"j2Pt\", \"j2Phi\", \"j2Eta\"]\n",
    "    for part in leps:\n",
    "        default_drop.extend(addPart(part))\n",
    "    drop.extend(default_drop)\n",
    "    filtered_df = filtered_df.drop(drop, axis=1)\n",
    "    return filtered_df"
   ]
  },
  {
   "cell_type": "code",
   "execution_count": 1061,
   "metadata": {},
   "outputs": [],
   "source": [
    "def eventsProcessed(dataset):\n",
    "    df = dataset[\"metaInfo\"][\"metaInfo\"].pandas.df()\n",
    "    return sum(df[\"summedWeights\"])"
   ]
  },
  {
   "cell_type": "code",
   "execution_count": 1181,
   "metadata": {},
   "outputs": [],
   "source": [
    "qcdwz_file = uproot.open(\"Data/2018-04-29-wz3lnu-powheg/combined.root\")\n",
    "ewwz_file = uproot.open(\"Data/2018-04-29-wlljj-ewk-WZxsec2016-3MediumLeptonsNoVetoToWselection-v1/combined.root\")\n",
    "ew_df = pandas.DataFrame()\n",
    "qcd_df = pandas.DataFrame()\n",
    "for chan in [\"eee\", \"eem\", \"emm\", \"mmm\"]:\n",
    "    ew_df = pandas.concat([ew_df, prepareDataset(ewwz_file, chan, [])])\n",
    "    qcd_df = pandas.concat([qcd_df, prepareDataset(qcdwz_file, chan, [])])"
   ]
  },
  {
   "cell_type": "code",
   "execution_count": null,
   "metadata": {},
   "outputs": [],
   "source": []
  },
  {
   "cell_type": "code",
   "execution_count": null,
   "metadata": {},
   "outputs": [],
   "source": []
  },
  {
   "cell_type": "code",
   "execution_count": 1182,
   "metadata": {},
   "outputs": [
    {
     "data": {
      "text/html": [
       "<div>\n",
       "<style scoped>\n",
       "    .dataframe tbody tr th:only-of-type {\n",
       "        vertical-align: middle;\n",
       "    }\n",
       "\n",
       "    .dataframe tbody tr th {\n",
       "        vertical-align: top;\n",
       "    }\n",
       "\n",
       "    .dataframe thead th {\n",
       "        text-align: right;\n",
       "    }\n",
       "</style>\n",
       "<table border=\"1\" class=\"dataframe\">\n",
       "  <thead>\n",
       "    <tr style=\"text-align: right;\">\n",
       "      <th></th>\n",
       "      <th>Mass</th>\n",
       "      <th>mjj</th>\n",
       "      <th>dEtajj</th>\n",
       "      <th>dPhijj</th>\n",
       "      <th>zep3l</th>\n",
       "      <th>zepl1</th>\n",
       "      <th>zepl2</th>\n",
       "      <th>zepl3</th>\n",
       "      <th>isSignal</th>\n",
       "    </tr>\n",
       "    <tr>\n",
       "      <th>entry</th>\n",
       "      <th></th>\n",
       "      <th></th>\n",
       "      <th></th>\n",
       "      <th></th>\n",
       "      <th></th>\n",
       "      <th></th>\n",
       "      <th></th>\n",
       "      <th></th>\n",
       "      <th></th>\n",
       "    </tr>\n",
       "  </thead>\n",
       "  <tbody>\n",
       "    <tr>\n",
       "      <th>7</th>\n",
       "      <td>197.474213</td>\n",
       "      <td>1452.079590</td>\n",
       "      <td>-4.361023</td>\n",
       "      <td>-3.363071</td>\n",
       "      <td>0.425171</td>\n",
       "      <td>0.196221</td>\n",
       "      <td>0.283425</td>\n",
       "      <td>0.547982</td>\n",
       "      <td>-1</td>\n",
       "    </tr>\n",
       "    <tr>\n",
       "      <th>9</th>\n",
       "      <td>187.145844</td>\n",
       "      <td>538.557129</td>\n",
       "      <td>3.960301</td>\n",
       "      <td>5.335135</td>\n",
       "      <td>0.434817</td>\n",
       "      <td>0.262619</td>\n",
       "      <td>0.327529</td>\n",
       "      <td>0.453280</td>\n",
       "      <td>-1</td>\n",
       "    </tr>\n",
       "    <tr>\n",
       "      <th>22</th>\n",
       "      <td>154.552063</td>\n",
       "      <td>248.347427</td>\n",
       "      <td>0.173881</td>\n",
       "      <td>-4.430906</td>\n",
       "      <td>5.338115</td>\n",
       "      <td>1.397599</td>\n",
       "      <td>3.478351</td>\n",
       "      <td>4.418507</td>\n",
       "      <td>-1</td>\n",
       "    </tr>\n",
       "    <tr>\n",
       "      <th>35</th>\n",
       "      <td>155.078537</td>\n",
       "      <td>1854.938965</td>\n",
       "      <td>-5.473908</td>\n",
       "      <td>-5.953694</td>\n",
       "      <td>-0.225061</td>\n",
       "      <td>-0.218394</td>\n",
       "      <td>-0.115776</td>\n",
       "      <td>-0.386195</td>\n",
       "      <td>-1</td>\n",
       "    </tr>\n",
       "    <tr>\n",
       "      <th>45</th>\n",
       "      <td>100.685013</td>\n",
       "      <td>286.303680</td>\n",
       "      <td>-2.047197</td>\n",
       "      <td>0.967060</td>\n",
       "      <td>0.442907</td>\n",
       "      <td>0.310820</td>\n",
       "      <td>0.666353</td>\n",
       "      <td>0.480374</td>\n",
       "      <td>-1</td>\n",
       "    </tr>\n",
       "    <tr>\n",
       "      <th>...</th>\n",
       "      <td>...</td>\n",
       "      <td>...</td>\n",
       "      <td>...</td>\n",
       "      <td>...</td>\n",
       "      <td>...</td>\n",
       "      <td>...</td>\n",
       "      <td>...</td>\n",
       "      <td>...</td>\n",
       "      <td>...</td>\n",
       "    </tr>\n",
       "    <tr>\n",
       "      <th>184338</th>\n",
       "      <td>126.538589</td>\n",
       "      <td>302.836609</td>\n",
       "      <td>3.489520</td>\n",
       "      <td>3.362889</td>\n",
       "      <td>0.712164</td>\n",
       "      <td>0.654876</td>\n",
       "      <td>0.623139</td>\n",
       "      <td>0.389959</td>\n",
       "      <td>-1</td>\n",
       "    </tr>\n",
       "    <tr>\n",
       "      <th>184343</th>\n",
       "      <td>126.448036</td>\n",
       "      <td>396.767975</td>\n",
       "      <td>3.398010</td>\n",
       "      <td>-2.357022</td>\n",
       "      <td>0.986681</td>\n",
       "      <td>0.938407</td>\n",
       "      <td>0.371488</td>\n",
       "      <td>0.883136</td>\n",
       "      <td>-1</td>\n",
       "    </tr>\n",
       "    <tr>\n",
       "      <th>184349</th>\n",
       "      <td>661.758911</td>\n",
       "      <td>1305.660278</td>\n",
       "      <td>-4.795947</td>\n",
       "      <td>-1.434279</td>\n",
       "      <td>-0.053570</td>\n",
       "      <td>0.291198</td>\n",
       "      <td>0.440389</td>\n",
       "      <td>-0.127520</td>\n",
       "      <td>-1</td>\n",
       "    </tr>\n",
       "    <tr>\n",
       "      <th>184353</th>\n",
       "      <td>209.705765</td>\n",
       "      <td>286.740295</td>\n",
       "      <td>3.732477</td>\n",
       "      <td>1.642172</td>\n",
       "      <td>0.335793</td>\n",
       "      <td>0.283155</td>\n",
       "      <td>0.286587</td>\n",
       "      <td>-0.078342</td>\n",
       "      <td>-1</td>\n",
       "    </tr>\n",
       "    <tr>\n",
       "      <th>184355</th>\n",
       "      <td>196.162354</td>\n",
       "      <td>894.591614</td>\n",
       "      <td>5.858745</td>\n",
       "      <td>3.318656</td>\n",
       "      <td>0.149369</td>\n",
       "      <td>-0.145645</td>\n",
       "      <td>0.155159</td>\n",
       "      <td>0.191059</td>\n",
       "      <td>-1</td>\n",
       "    </tr>\n",
       "  </tbody>\n",
       "</table>\n",
       "<p>56483 rows × 9 columns</p>\n",
       "</div>"
      ],
      "text/plain": [
       "              Mass          mjj    dEtajj    dPhijj     zep3l     zepl1  \\\n",
       "entry                                                                     \n",
       "7       197.474213  1452.079590 -4.361023 -3.363071  0.425171  0.196221   \n",
       "9       187.145844   538.557129  3.960301  5.335135  0.434817  0.262619   \n",
       "22      154.552063   248.347427  0.173881 -4.430906  5.338115  1.397599   \n",
       "35      155.078537  1854.938965 -5.473908 -5.953694 -0.225061 -0.218394   \n",
       "45      100.685013   286.303680 -2.047197  0.967060  0.442907  0.310820   \n",
       "...            ...          ...       ...       ...       ...       ...   \n",
       "184338  126.538589   302.836609  3.489520  3.362889  0.712164  0.654876   \n",
       "184343  126.448036   396.767975  3.398010 -2.357022  0.986681  0.938407   \n",
       "184349  661.758911  1305.660278 -4.795947 -1.434279 -0.053570  0.291198   \n",
       "184353  209.705765   286.740295  3.732477  1.642172  0.335793  0.283155   \n",
       "184355  196.162354   894.591614  5.858745  3.318656  0.149369 -0.145645   \n",
       "\n",
       "           zepl2     zepl3  isSignal  \n",
       "entry                                 \n",
       "7       0.283425  0.547982        -1  \n",
       "9       0.327529  0.453280        -1  \n",
       "22      3.478351  4.418507        -1  \n",
       "35     -0.115776 -0.386195        -1  \n",
       "45      0.666353  0.480374        -1  \n",
       "...          ...       ...       ...  \n",
       "184338  0.623139  0.389959        -1  \n",
       "184343  0.371488  0.883136        -1  \n",
       "184349  0.440389 -0.127520        -1  \n",
       "184353  0.286587 -0.078342        -1  \n",
       "184355  0.155159  0.191059        -1  \n",
       "\n",
       "[56483 rows x 9 columns]"
      ]
     },
     "execution_count": 1182,
     "metadata": {},
     "output_type": "execute_result"
    }
   ],
   "source": [
    "qcd_df[\"isSignal\"] = -1\n",
    "qcd_df"
   ]
  },
  {
   "cell_type": "code",
   "execution_count": 1183,
   "metadata": {},
   "outputs": [
    {
     "data": {
      "text/html": [
       "<div>\n",
       "<style scoped>\n",
       "    .dataframe tbody tr th:only-of-type {\n",
       "        vertical-align: middle;\n",
       "    }\n",
       "\n",
       "    .dataframe tbody tr th {\n",
       "        vertical-align: top;\n",
       "    }\n",
       "\n",
       "    .dataframe thead th {\n",
       "        text-align: right;\n",
       "    }\n",
       "</style>\n",
       "<table border=\"1\" class=\"dataframe\">\n",
       "  <thead>\n",
       "    <tr style=\"text-align: right;\">\n",
       "      <th></th>\n",
       "      <th>Mass</th>\n",
       "      <th>mjj</th>\n",
       "      <th>dEtajj</th>\n",
       "      <th>dPhijj</th>\n",
       "      <th>zep3l</th>\n",
       "      <th>zepl1</th>\n",
       "      <th>zepl2</th>\n",
       "      <th>zepl3</th>\n",
       "      <th>isSignal</th>\n",
       "    </tr>\n",
       "    <tr>\n",
       "      <th>entry</th>\n",
       "      <th></th>\n",
       "      <th></th>\n",
       "      <th></th>\n",
       "      <th></th>\n",
       "      <th></th>\n",
       "      <th></th>\n",
       "      <th></th>\n",
       "      <th></th>\n",
       "      <th></th>\n",
       "    </tr>\n",
       "  </thead>\n",
       "  <tbody>\n",
       "    <tr>\n",
       "      <th>1</th>\n",
       "      <td>231.138519</td>\n",
       "      <td>744.512634</td>\n",
       "      <td>3.412335</td>\n",
       "      <td>-2.880494</td>\n",
       "      <td>0.128274</td>\n",
       "      <td>0.348781</td>\n",
       "      <td>0.351788</td>\n",
       "      <td>-0.057349</td>\n",
       "      <td>1</td>\n",
       "    </tr>\n",
       "    <tr>\n",
       "      <th>2</th>\n",
       "      <td>346.155365</td>\n",
       "      <td>1094.974487</td>\n",
       "      <td>5.647127</td>\n",
       "      <td>2.115696</td>\n",
       "      <td>0.287652</td>\n",
       "      <td>0.148424</td>\n",
       "      <td>0.295892</td>\n",
       "      <td>0.142873</td>\n",
       "      <td>1</td>\n",
       "    </tr>\n",
       "    <tr>\n",
       "      <th>3</th>\n",
       "      <td>264.256012</td>\n",
       "      <td>566.254272</td>\n",
       "      <td>-3.029285</td>\n",
       "      <td>-1.365894</td>\n",
       "      <td>-0.677175</td>\n",
       "      <td>-0.730590</td>\n",
       "      <td>-0.570534</td>\n",
       "      <td>-0.283838</td>\n",
       "      <td>1</td>\n",
       "    </tr>\n",
       "    <tr>\n",
       "      <th>5</th>\n",
       "      <td>130.684494</td>\n",
       "      <td>1426.736206</td>\n",
       "      <td>4.952016</td>\n",
       "      <td>1.101611</td>\n",
       "      <td>0.335833</td>\n",
       "      <td>0.239789</td>\n",
       "      <td>0.346027</td>\n",
       "      <td>0.218945</td>\n",
       "      <td>1</td>\n",
       "    </tr>\n",
       "    <tr>\n",
       "      <th>6</th>\n",
       "      <td>215.936279</td>\n",
       "      <td>1171.368896</td>\n",
       "      <td>-5.660201</td>\n",
       "      <td>3.110194</td>\n",
       "      <td>-0.092905</td>\n",
       "      <td>-0.197651</td>\n",
       "      <td>0.181179</td>\n",
       "      <td>0.202823</td>\n",
       "      <td>1</td>\n",
       "    </tr>\n",
       "    <tr>\n",
       "      <th>...</th>\n",
       "      <td>...</td>\n",
       "      <td>...</td>\n",
       "      <td>...</td>\n",
       "      <td>...</td>\n",
       "      <td>...</td>\n",
       "      <td>...</td>\n",
       "      <td>...</td>\n",
       "      <td>...</td>\n",
       "      <td>...</td>\n",
       "    </tr>\n",
       "    <tr>\n",
       "      <th>38931</th>\n",
       "      <td>549.119568</td>\n",
       "      <td>665.170044</td>\n",
       "      <td>-1.415634</td>\n",
       "      <td>2.547495</td>\n",
       "      <td>0.610934</td>\n",
       "      <td>-1.193107</td>\n",
       "      <td>0.650190</td>\n",
       "      <td>1.067743</td>\n",
       "      <td>1</td>\n",
       "    </tr>\n",
       "    <tr>\n",
       "      <th>38932</th>\n",
       "      <td>143.280563</td>\n",
       "      <td>549.855103</td>\n",
       "      <td>-1.764178</td>\n",
       "      <td>3.496532</td>\n",
       "      <td>0.594475</td>\n",
       "      <td>0.759561</td>\n",
       "      <td>0.144066</td>\n",
       "      <td>0.393747</td>\n",
       "      <td>1</td>\n",
       "    </tr>\n",
       "    <tr>\n",
       "      <th>38934</th>\n",
       "      <td>280.429840</td>\n",
       "      <td>1536.218506</td>\n",
       "      <td>5.557900</td>\n",
       "      <td>1.707636</td>\n",
       "      <td>0.550082</td>\n",
       "      <td>0.471582</td>\n",
       "      <td>0.464335</td>\n",
       "      <td>0.048570</td>\n",
       "      <td>1</td>\n",
       "    </tr>\n",
       "    <tr>\n",
       "      <th>38936</th>\n",
       "      <td>122.427002</td>\n",
       "      <td>603.147766</td>\n",
       "      <td>1.560247</td>\n",
       "      <td>3.530281</td>\n",
       "      <td>-0.995703</td>\n",
       "      <td>-0.647765</td>\n",
       "      <td>-1.357503</td>\n",
       "      <td>-0.426572</td>\n",
       "      <td>1</td>\n",
       "    </tr>\n",
       "    <tr>\n",
       "      <th>38937</th>\n",
       "      <td>129.479095</td>\n",
       "      <td>875.167969</td>\n",
       "      <td>-1.991589</td>\n",
       "      <td>-3.264322</td>\n",
       "      <td>0.539694</td>\n",
       "      <td>0.249038</td>\n",
       "      <td>-0.060161</td>\n",
       "      <td>-0.039239</td>\n",
       "      <td>1</td>\n",
       "    </tr>\n",
       "  </tbody>\n",
       "</table>\n",
       "<p>85567 rows × 9 columns</p>\n",
       "</div>"
      ],
      "text/plain": [
       "             Mass          mjj    dEtajj    dPhijj     zep3l     zepl1  \\\n",
       "entry                                                                    \n",
       "1      231.138519   744.512634  3.412335 -2.880494  0.128274  0.348781   \n",
       "2      346.155365  1094.974487  5.647127  2.115696  0.287652  0.148424   \n",
       "3      264.256012   566.254272 -3.029285 -1.365894 -0.677175 -0.730590   \n",
       "5      130.684494  1426.736206  4.952016  1.101611  0.335833  0.239789   \n",
       "6      215.936279  1171.368896 -5.660201  3.110194 -0.092905 -0.197651   \n",
       "...           ...          ...       ...       ...       ...       ...   \n",
       "38931  549.119568   665.170044 -1.415634  2.547495  0.610934 -1.193107   \n",
       "38932  143.280563   549.855103 -1.764178  3.496532  0.594475  0.759561   \n",
       "38934  280.429840  1536.218506  5.557900  1.707636  0.550082  0.471582   \n",
       "38936  122.427002   603.147766  1.560247  3.530281 -0.995703 -0.647765   \n",
       "38937  129.479095   875.167969 -1.991589 -3.264322  0.539694  0.249038   \n",
       "\n",
       "          zepl2     zepl3  isSignal  \n",
       "entry                                \n",
       "1      0.351788 -0.057349         1  \n",
       "2      0.295892  0.142873         1  \n",
       "3     -0.570534 -0.283838         1  \n",
       "5      0.346027  0.218945         1  \n",
       "6      0.181179  0.202823         1  \n",
       "...         ...       ...       ...  \n",
       "38931  0.650190  1.067743         1  \n",
       "38932  0.144066  0.393747         1  \n",
       "38934  0.464335  0.048570         1  \n",
       "38936 -1.357503 -0.426572         1  \n",
       "38937 -0.060161 -0.039239         1  \n",
       "\n",
       "[85567 rows x 9 columns]"
      ]
     },
     "execution_count": 1183,
     "metadata": {},
     "output_type": "execute_result"
    }
   ],
   "source": [
    "ew_df[\"isSignal\"] = 1\n",
    "ew_df"
   ]
  },
  {
   "cell_type": "code",
   "execution_count": 1184,
   "metadata": {},
   "outputs": [
    {
     "data": {
      "text/html": [
       "<div>\n",
       "<style scoped>\n",
       "    .dataframe tbody tr th:only-of-type {\n",
       "        vertical-align: middle;\n",
       "    }\n",
       "\n",
       "    .dataframe tbody tr th {\n",
       "        vertical-align: top;\n",
       "    }\n",
       "\n",
       "    .dataframe thead th {\n",
       "        text-align: right;\n",
       "    }\n",
       "</style>\n",
       "<table border=\"1\" class=\"dataframe\">\n",
       "  <thead>\n",
       "    <tr style=\"text-align: right;\">\n",
       "      <th></th>\n",
       "      <th>Mass</th>\n",
       "      <th>mjj</th>\n",
       "      <th>dEtajj</th>\n",
       "      <th>dPhijj</th>\n",
       "      <th>zep3l</th>\n",
       "      <th>zepl1</th>\n",
       "      <th>zepl2</th>\n",
       "      <th>zepl3</th>\n",
       "      <th>isSignal</th>\n",
       "    </tr>\n",
       "    <tr>\n",
       "      <th>entry</th>\n",
       "      <th></th>\n",
       "      <th></th>\n",
       "      <th></th>\n",
       "      <th></th>\n",
       "      <th></th>\n",
       "      <th></th>\n",
       "      <th></th>\n",
       "      <th></th>\n",
       "      <th></th>\n",
       "    </tr>\n",
       "  </thead>\n",
       "  <tbody>\n",
       "    <tr>\n",
       "      <th>1</th>\n",
       "      <td>231.138519</td>\n",
       "      <td>744.512634</td>\n",
       "      <td>3.412335</td>\n",
       "      <td>-2.880494</td>\n",
       "      <td>0.128274</td>\n",
       "      <td>0.348781</td>\n",
       "      <td>0.351788</td>\n",
       "      <td>-0.057349</td>\n",
       "      <td>1</td>\n",
       "    </tr>\n",
       "    <tr>\n",
       "      <th>2</th>\n",
       "      <td>346.155365</td>\n",
       "      <td>1094.974487</td>\n",
       "      <td>5.647127</td>\n",
       "      <td>2.115696</td>\n",
       "      <td>0.287652</td>\n",
       "      <td>0.148424</td>\n",
       "      <td>0.295892</td>\n",
       "      <td>0.142873</td>\n",
       "      <td>1</td>\n",
       "    </tr>\n",
       "    <tr>\n",
       "      <th>3</th>\n",
       "      <td>264.256012</td>\n",
       "      <td>566.254272</td>\n",
       "      <td>-3.029285</td>\n",
       "      <td>-1.365894</td>\n",
       "      <td>-0.677175</td>\n",
       "      <td>-0.730590</td>\n",
       "      <td>-0.570534</td>\n",
       "      <td>-0.283838</td>\n",
       "      <td>1</td>\n",
       "    </tr>\n",
       "    <tr>\n",
       "      <th>5</th>\n",
       "      <td>130.684494</td>\n",
       "      <td>1426.736206</td>\n",
       "      <td>4.952016</td>\n",
       "      <td>1.101611</td>\n",
       "      <td>0.335833</td>\n",
       "      <td>0.239789</td>\n",
       "      <td>0.346027</td>\n",
       "      <td>0.218945</td>\n",
       "      <td>1</td>\n",
       "    </tr>\n",
       "    <tr>\n",
       "      <th>6</th>\n",
       "      <td>215.936279</td>\n",
       "      <td>1171.368896</td>\n",
       "      <td>-5.660201</td>\n",
       "      <td>3.110194</td>\n",
       "      <td>-0.092905</td>\n",
       "      <td>-0.197651</td>\n",
       "      <td>0.181179</td>\n",
       "      <td>0.202823</td>\n",
       "      <td>1</td>\n",
       "    </tr>\n",
       "    <tr>\n",
       "      <th>...</th>\n",
       "      <td>...</td>\n",
       "      <td>...</td>\n",
       "      <td>...</td>\n",
       "      <td>...</td>\n",
       "      <td>...</td>\n",
       "      <td>...</td>\n",
       "      <td>...</td>\n",
       "      <td>...</td>\n",
       "      <td>...</td>\n",
       "    </tr>\n",
       "    <tr>\n",
       "      <th>184338</th>\n",
       "      <td>126.538589</td>\n",
       "      <td>302.836609</td>\n",
       "      <td>3.489520</td>\n",
       "      <td>3.362889</td>\n",
       "      <td>0.712164</td>\n",
       "      <td>0.654876</td>\n",
       "      <td>0.623139</td>\n",
       "      <td>0.389959</td>\n",
       "      <td>-1</td>\n",
       "    </tr>\n",
       "    <tr>\n",
       "      <th>184343</th>\n",
       "      <td>126.448036</td>\n",
       "      <td>396.767975</td>\n",
       "      <td>3.398010</td>\n",
       "      <td>-2.357022</td>\n",
       "      <td>0.986681</td>\n",
       "      <td>0.938407</td>\n",
       "      <td>0.371488</td>\n",
       "      <td>0.883136</td>\n",
       "      <td>-1</td>\n",
       "    </tr>\n",
       "    <tr>\n",
       "      <th>184349</th>\n",
       "      <td>661.758911</td>\n",
       "      <td>1305.660278</td>\n",
       "      <td>-4.795947</td>\n",
       "      <td>-1.434279</td>\n",
       "      <td>-0.053570</td>\n",
       "      <td>0.291198</td>\n",
       "      <td>0.440389</td>\n",
       "      <td>-0.127520</td>\n",
       "      <td>-1</td>\n",
       "    </tr>\n",
       "    <tr>\n",
       "      <th>184353</th>\n",
       "      <td>209.705765</td>\n",
       "      <td>286.740295</td>\n",
       "      <td>3.732477</td>\n",
       "      <td>1.642172</td>\n",
       "      <td>0.335793</td>\n",
       "      <td>0.283155</td>\n",
       "      <td>0.286587</td>\n",
       "      <td>-0.078342</td>\n",
       "      <td>-1</td>\n",
       "    </tr>\n",
       "    <tr>\n",
       "      <th>184355</th>\n",
       "      <td>196.162354</td>\n",
       "      <td>894.591614</td>\n",
       "      <td>5.858745</td>\n",
       "      <td>3.318656</td>\n",
       "      <td>0.149369</td>\n",
       "      <td>-0.145645</td>\n",
       "      <td>0.155159</td>\n",
       "      <td>0.191059</td>\n",
       "      <td>-1</td>\n",
       "    </tr>\n",
       "  </tbody>\n",
       "</table>\n",
       "<p>142050 rows × 9 columns</p>\n",
       "</div>"
      ],
      "text/plain": [
       "              Mass          mjj    dEtajj    dPhijj     zep3l     zepl1  \\\n",
       "entry                                                                     \n",
       "1       231.138519   744.512634  3.412335 -2.880494  0.128274  0.348781   \n",
       "2       346.155365  1094.974487  5.647127  2.115696  0.287652  0.148424   \n",
       "3       264.256012   566.254272 -3.029285 -1.365894 -0.677175 -0.730590   \n",
       "5       130.684494  1426.736206  4.952016  1.101611  0.335833  0.239789   \n",
       "6       215.936279  1171.368896 -5.660201  3.110194 -0.092905 -0.197651   \n",
       "...            ...          ...       ...       ...       ...       ...   \n",
       "184338  126.538589   302.836609  3.489520  3.362889  0.712164  0.654876   \n",
       "184343  126.448036   396.767975  3.398010 -2.357022  0.986681  0.938407   \n",
       "184349  661.758911  1305.660278 -4.795947 -1.434279 -0.053570  0.291198   \n",
       "184353  209.705765   286.740295  3.732477  1.642172  0.335793  0.283155   \n",
       "184355  196.162354   894.591614  5.858745  3.318656  0.149369 -0.145645   \n",
       "\n",
       "           zepl2     zepl3  isSignal  \n",
       "entry                                 \n",
       "1       0.351788 -0.057349         1  \n",
       "2       0.295892  0.142873         1  \n",
       "3      -0.570534 -0.283838         1  \n",
       "5       0.346027  0.218945         1  \n",
       "6       0.181179  0.202823         1  \n",
       "...          ...       ...       ...  \n",
       "184338  0.623139  0.389959        -1  \n",
       "184343  0.371488  0.883136        -1  \n",
       "184349  0.440389 -0.127520        -1  \n",
       "184353  0.286587 -0.078342        -1  \n",
       "184355  0.155159  0.191059        -1  \n",
       "\n",
       "[142050 rows x 9 columns]"
      ]
     },
     "execution_count": 1184,
     "metadata": {},
     "output_type": "execute_result"
    }
   ],
   "source": [
    "full_df = pandas.concat([ew_df, qcd_df], sort=False)\n",
    "truth_df = full_df[\"isSignal\"]\n",
    "train_full_df = full_df.drop([\"isSignal\"], axis=1)\n",
    "full_df"
   ]
  },
  {
   "cell_type": "code",
   "execution_count": 1185,
   "metadata": {},
   "outputs": [],
   "source": [
    "from sklearn.model_selection import train_test_split\n",
    "testsize=0.5\n",
    "X_train, X_test, y_train, y_test = train_test_split(full_df, truth_df, test_size=testsize, random_state=42)\n",
    "X_test_ew = X_test[X_test[\"isSignal\"] > 0]\n",
    "X_test_qcd = X_test[X_test[\"isSignal\"] < 0]\n",
    "X_train = X_train.drop([\"isSignal\"], axis=1)\n",
    "X_test = X_test.drop([\"isSignal\"], axis=1)\n",
    "X_test_qcd = X_test_qcd.drop([\"isSignal\"], axis=1)\n",
    "X_test_ew = X_test_ew.drop([\"isSignal\"], axis=1)"
   ]
  },
  {
   "cell_type": "code",
   "execution_count": 178,
   "metadata": {},
   "outputs": [],
   "source": [
    "import xgboost as xgb"
   ]
  },
  {
   "cell_type": "code",
   "execution_count": 1134,
   "metadata": {},
   "outputs": [
    {
     "data": {
      "text/plain": [
       "28289"
      ]
     },
     "execution_count": 1134,
     "metadata": {},
     "output_type": "execute_result"
    }
   ],
   "source": []
  },
  {
   "cell_type": "code",
   "execution_count": 1166,
   "metadata": {},
   "outputs": [],
   "source": [
    "mod = xgb.XGBRegressor(\n",
    "    gamma=1,                 \n",
    "    learning_rate=0.01,\n",
    "    max_depth=8,\n",
    "    n_estimators=800,                                                                    \n",
    "    min_samples_leaf=800\n",
    ")"
   ]
  },
  {
   "cell_type": "code",
   "execution_count": 369,
   "metadata": {},
   "outputs": [],
   "source": [
    "from sklearn.ensemble import AdaBoostRegressor\n",
    "from sklearn.tree import DecisionTreeRegressor\n",
    "mod = AdaBoostRegressor(\n",
    "    learning_rate=0.01,\n",
    "    n_estimators=10000\n",
    ")"
   ]
  },
  {
   "cell_type": "code",
   "execution_count": 1186,
   "metadata": {},
   "outputs": [
    {
     "name": "stdout",
     "output_type": "stream",
     "text": [
      "[20:13:47] WARNING: src/objective/regression_obj.cu:152: reg:linear is now deprecated in favor of reg:squarederror.\n"
     ]
    },
    {
     "data": {
      "text/plain": [
       "XGBRegressor(base_score=0.5, booster='gbtree', colsample_bylevel=1,\n",
       "             colsample_bynode=1, colsample_bytree=1, gamma=1,\n",
       "             importance_type='gain', learning_rate=0.01, max_delta_step=0,\n",
       "             max_depth=8, min_child_weight=1, min_samples_leaf=800,\n",
       "             missing=None, n_estimators=800, n_jobs=1, nthread=None,\n",
       "             objective='reg:linear', random_state=0, reg_alpha=0, reg_lambda=1,\n",
       "             scale_pos_weight=1, seed=None, silent=None, subsample=1,\n",
       "             verbosity=1)"
      ]
     },
     "execution_count": 1186,
     "metadata": {},
     "output_type": "execute_result"
    }
   ],
   "source": [
    "mod.fit(X_train, y_train)"
   ]
  },
  {
   "cell_type": "code",
   "execution_count": 73,
   "metadata": {},
   "outputs": [],
   "source": []
  },
  {
   "cell_type": "code",
   "execution_count": 85,
   "metadata": {},
   "outputs": [],
   "source": []
  },
  {
   "cell_type": "code",
   "execution_count": 1187,
   "metadata": {},
   "outputs": [
    {
     "name": "stdout",
     "output_type": "stream",
     "text": [
      "42736\n",
      "28289\n"
     ]
    }
   ],
   "source": [
    "predictions_ew = mod.predict(X_test_ew)\n",
    "predictions_qcd = mod.predict(X_test_qcd)\n",
    "print(len(predictions_ew))\n",
    "print(len(predictions_qcd))"
   ]
  },
  {
   "cell_type": "code",
   "execution_count": 1188,
   "metadata": {},
   "outputs": [
    {
     "data": {
      "text/plain": [
       "<matplotlib.legend.Legend at 0x1b9c25c50>"
      ]
     },
     "execution_count": 1188,
     "metadata": {},
     "output_type": "execute_result"
    },
    {
     "data": {
      "image/png": "[encoded data removed]",
      "text/plain": [
       "<Figure size 432x288 with 1 Axes>"
      ]
     },
     "metadata": {
      "needs_background": "light"
     },
     "output_type": "display_data"
    }
   ],
   "source": [
    "plt.hist(predictions_qcd,alpha=0.5, label='QCD')\n",
    "plt.hist(predictions_ew,color='g', alpha=0.5,label='EW')\n",
    "plt.legend()"
   ]
  },
  {
   "cell_type": "code",
   "execution_count": 1189,
   "metadata": {},
   "outputs": [
    {
     "data": {
      "text/plain": [
       "71025"
      ]
     },
     "execution_count": 1189,
     "metadata": {},
     "output_type": "execute_result"
    }
   ],
   "source": [
    "predictions = mod.predict(X_test)\n",
    "len(predictions)"
   ]
  },
  {
   "cell_type": "code",
   "execution_count": 342,
   "metadata": {},
   "outputs": [],
   "source": [
    "import matplotlib.pyplot as plt"
   ]
  },
  {
   "cell_type": "code",
   "execution_count": 1103,
   "metadata": {},
   "outputs": [
    {
     "data": {
      "text/plain": [
       "<matplotlib.legend.Legend at 0x1c1065d10>"
      ]
     },
     "execution_count": 1103,
     "metadata": {},
     "output_type": "execute_result"
    },
    {
     "data": {
      "image/png": "[encoded data removed]",
      "text/plain": [
       "<Figure size 432x288 with 1 Axes>"
      ]
     },
     "metadata": {
      "needs_background": "light"
     },
     "output_type": "display_data"
    }
   ],
   "source": [
    "plt.hist(predictions_qcd,alpha=0.5, label='QCD')\n",
    "plt.hist(predictions_ew,color='g', alpha=0.5,label='EW')\n",
    "plt.legend()"
   ]
  },
  {
   "cell_type": "code",
   "execution_count": 265,
   "metadata": {},
   "outputs": [],
   "source": [
    "from sklearn.metrics import roc_auc_score, confusion_matrix, accuracy_score\n",
    "import numpy"
   ]
  },
  {
   "cell_type": "code",
   "execution_count": 1190,
   "metadata": {},
   "outputs": [
    {
     "name": "stdout",
     "output_type": "stream",
     "text": [
      "Roc score is 0.7720323756455267\n"
     ]
    }
   ],
   "source": [
    "cutoff = 0.0\n",
    "cat_predict = [1 if x > cutoff else -1 for x in predictions] \n",
    "print(\"Roc score is\", roc_auc_score(cat_predict, y_test))"
   ]
  },
  {
   "cell_type": "code",
   "execution_count": 1191,
   "metadata": {},
   "outputs": [
    {
     "name": "stdout",
     "output_type": "stream",
     "text": [
      "[[20574  7805]\n",
      " [ 7715 34931]]\n",
      "\n",
      "Total QCD 28289\n",
      "-------------------------------\n",
      "QCD as QCD 20574 (72.73 percent)\n",
      "QCD as EW 7805 (27.59 percent)\n",
      "\n",
      "Total EW 42736\n",
      "-------------------------------\n",
      "EW as QCD 7715 (18.05 percent)\n",
      "EW as EW 34931 (81.74 percent)\n",
      "-------------------------------\n",
      "Overall accuracy 0.7814853924674411\n"
     ]
    }
   ],
   "source": [
    "tn, fp, fn, tp = confusion_matrix(cat_predict, y_test).ravel()\n",
    "print(confusion_matrix(cat_predict, y_test))\n",
    "tot_qcd = len(predictions_qcd)\n",
    "print(\"\\nTotal QCD\", tot_qcd)\n",
    "print(\"-------------------------------\")\n",
    "print(\"QCD as QCD\", tn, \"(%0.02f percent)\" % (tn/tot_qcd*100))\n",
    "print(\"QCD as EW\", fp, \"(%0.02f percent)\" % (fp/tot_qcd*100))\n",
    "\n",
    "tot_ew = len(predictions_ew)\n",
    "print(\"\\nTotal EW\", tot_ew)\n",
    "print(\"-------------------------------\")\n",
    "print(\"EW as QCD\", fn, \"(%0.02f percent)\" % (fn/tot_ew*100))\n",
    "print(\"EW as EW\", tp, \"(%0.02f percent)\" % (tp/tot_ew*100))\n",
    "print(\"-------------------------------\")\n",
    "print(\"Overall accuracy\", accuracy_score(cat_predict, y_test))"
   ]
  },
  {
   "cell_type": "code",
   "execution_count": 1192,
   "metadata": {},
   "outputs": [
    {
     "name": "stdout",
     "output_type": "stream",
     "text": [
      "Rate of acceptance\n",
      "Signal 0.0521\n",
      "Background 0.0002472334245826734\n"
     ]
    }
   ],
   "source": [
    "cutoff = 0.5\n",
    "print(\"Rate of acceptance\")\n",
    "acc_rate_sig = len([x for x in filter(lambda x: x > cutoff, predictions_ew)])/(eventsProcessed(ewwz_file)*testsize)\n",
    "acc_rate_bkgd = len([x for x in filter(lambda x: x > cutoff, predictions_qcd)])/(eventsProcessed(qcdwz_file)*testsize)\n",
    "#acc_bkgd = testqcd_emm_wtruth[testqcd_emm_wtruth[\"prediction\"] > 0.9]\n",
    "print(\"Signal\", acc_rate_sig)\n",
    "print(\"Background\", acc_rate_bkgd)"
   ]
  },
  {
   "cell_type": "code",
   "execution_count": 1193,
   "metadata": {},
   "outputs": [
    {
     "name": "stdout",
     "output_type": "stream",
     "text": [
      "Scaled by cross section and 36 fb-1\n",
      "Signal 32.823\n",
      "Background 39.428786552444755\n"
     ]
    }
   ],
   "source": [
    "print(\"Scaled by cross section and 36 fb-1\")\n",
    "print(\"Signal\", acc_rate_sig*17.5*36)\n",
    "print(\"Background\", acc_rate_bkgd*4.43*1000*36)"
   ]
  },
  {
   "cell_type": "code",
   "execution_count": 1174,
   "metadata": {
    "scrolled": true
   },
   "outputs": [
    {
     "name": "stderr",
     "output_type": "stream",
     "text": [
      "/usr/local/lib/python3.7/site-packages/ipykernel_launcher.py:5: MatplotlibDeprecationWarning: \n",
      "The 'normed' kwarg was deprecated in Matplotlib 2.1 and will be removed in 3.1. Use 'density' instead.\n",
      "  \"\"\"\n",
      "/usr/local/lib/python3.7/site-packages/ipykernel_launcher.py:6: MatplotlibDeprecationWarning: \n",
      "The 'normed' kwarg was deprecated in Matplotlib 2.1 and will be removed in 3.1. Use 'density' instead.\n",
      "  \n"
     ]
    },
    {
     "data": {
      "image/png": "[encoded data removed]",
      "text/plain": [
       "<Figure size 432x288 with 1 Axes>"
      ]
     },
     "metadata": {
      "needs_background": "light"
     },
     "output_type": "display_data"
    }
   ],
   "source": [
    "X_test_ew[\"predict\"] = predictions_ew\n",
    "X_test_qcd[\"predict\"] = predictions_qcd\n",
    "ewklike = X_test_ew[(X_test_ew[\"predict\"] > 0.5) & (X_test_ew[\"mjj\"] < 1000)]\n",
    "ewklike_qcd = X_test_qcd[(X_test_qcd[\"predict\"] > 0.5) & (X_test_qcd[\"mjj\"] < 1000)]\n",
    "plt.hist(ewklike[\"mjj\"],alpha=0.5, label='EW', normed=True)\n",
    "plt.hist(ewklike_qcd[\"mjj\"],color='g', alpha=0.5,label='EW', normed=True)\n",
    "plt.show()"
   ]
  },
  {
   "cell_type": "code",
   "execution_count": 516,
   "metadata": {},
   "outputs": [],
   "source": [
    "import numpy as np"
   ]
  },
  {
   "cell_type": "code",
   "execution_count": 1196,
   "metadata": {},
   "outputs": [
    {
     "name": "stdout",
     "output_type": "stream",
     "text": [
      "[11.2540032  3.1084416  3.8041344  5.0675328  7.4460672 13.584384 ]\n",
      "[85.08741822 11.26536759  9.61913909  8.84444332  6.53649552  3.16334104]\n",
      "0.0006336\n",
      "0.008069747554736955\n"
     ]
    }
   ],
   "source": [
    "ewhist, bins = np.histogram(predictions_ew, bins=[0, 0.5, 0.6, 0.7, 0.8, 0.9, 2])\n",
    "qcdhist, bins = np.histogram(predictions_qcd, bins=[0, 0.5, 0.6, 0.7, 0.8, 0.9, 2])\n",
    "ewhist = ewhist*17.6*36/(eventsProcessed(ewwz_file)/2)\n",
    "qcdhist = qcdhist*4430*36/(eventsProcessed(qcdwz_file)/2)\n",
    "print(ewhist)\n",
    "print(qcdhist)\n",
    "print(17.6*36/eventsProcessed(ewwz_file))\n",
    "print(4430*36/eventsProcessed(qcdwz_file))"
   ]
  },
  {
   "cell_type": "code",
   "execution_count": 1197,
   "metadata": {},
   "outputs": [
    {
     "name": "stdout",
     "output_type": "stream",
     "text": [
      "6\n",
      "7\n"
     ]
    },
    {
     "data": {
      "image/png": "[encoded data removed]",
      "text/plain": [
       "<Figure size 432x288 with 1 Axes>"
      ]
     },
     "metadata": {
      "needs_background": "light"
     },
     "output_type": "display_data"
    }
   ],
   "source": [
    "plt.hist(bins[:-1], weights=qcdhist, bins=bins, alpha=0.5)\n",
    "plt.hist(bins[:-1], weights=ewhist, bins=bins,color='g', alpha=0.5)\n",
    "print(len(ewhist))\n",
    "print(len(bins))"
   ]
  },
  {
   "cell_type": "code",
   "execution_count": 1198,
   "metadata": {},
   "outputs": [
    {
     "name": "stdout",
     "output_type": "stream",
     "text": [
      "85567\n",
      "54953\n",
      "34.818220800000006\n",
      "\n",
      " 56483\n",
      "14271\n",
      "111.78385544485317\n"
     ]
    }
   ],
   "source": [
    "ew_processed = eventsProcessed(ewwz_file)\n",
    "qcd_processed = eventsProcessed(qcdwz_file)\n",
    "print(len(ew_df))\n",
    "print(len(ew_df[(ew_df.mjj > 500) & (abs(ew_df.dEtajj) > 2.5)]))\n",
    "print(len(ew_df[(ew_df.mjj > 500) & (abs(ew_df.dEtajj) > 2.5)])/ew_processed*17.6*36)\n",
    "\n",
    "print(\"\\n\", len(qcd_df))\n",
    "print(len(qcd_df[(qcd_df.mjj > 500) & (abs(qcd_df.dEtajj) > 2.5)]))\n",
    "print(len(qcd_df[(qcd_df.mjj > 500) & (abs(qcd_df.dEtajj) > 2.5)])/qcd_processed*4300*36)"
   ]
  },
  {
   "cell_type": "code",
   "execution_count": 602,
   "metadata": {},
   "outputs": [
    {
     "data": {
      "text/plain": [
       "1000000.0"
      ]
     },
     "execution_count": 602,
     "metadata": {},
     "output_type": "execute_result"
    }
   ],
   "source": [
    "qcd_processed"
   ]
  },
  {
   "cell_type": "code",
   "execution_count": 1097,
   "metadata": {},
   "outputs": [],
   "source": [
    "import math\n",
    "def approxLikelihood(sig_hist, bkgd_hist):\n",
    "    term1 = 0\n",
    "    term2 = 0\n",
    "    for sig, bkgd in zip(sig_hist, bkgd_hist):\n",
    "        term1 += (sig+bkgd)*math.log(1+sig/bkgd)\n",
    "        term2 += sig\n",
    "    return math.sqrt(2*(term1 - term2))"
   ]
  },
  {
   "cell_type": "code",
   "execution_count": 605,
   "metadata": {},
   "outputs": [],
   "source": [
    "\n"
   ]
  },
  {
   "cell_type": "code",
   "execution_count": 1199,
   "metadata": {
    "scrolled": true
   },
   "outputs": [
    {
     "name": "stdout",
     "output_type": "stream",
     "text": [
      "6.4070129437731556\n"
     ]
    }
   ],
   "source": [
    "print(approxLikelihood(ewhist, qcdhist))"
   ]
  },
  {
   "cell_type": "code",
   "execution_count": 1106,
   "metadata": {},
   "outputs": [],
   "source": [
    "ew_loose = ew_df[(ew_df.mjj > 500) & (abs(ew_df.dEtajj) > 2.5)]\n",
    "qcd_loose = qcd_df[(qcd_df.mjj > 500) & (abs(qcd_df.dEtajj) > 2.5)]\n",
    "ew_mjj_hist,bins = numpy.histogram(ew_loose[\"mjj\"], bins=[500,750,1000, 1250, 1500, 2000, 10000])\n",
    "qcd_mjj_hist,bins = numpy.histogram(qcd_loose[\"mjj\"], bins=[500,750,1000, 1250, 1500, 2000, 10000])\n",
    "ew_mjj_hist = ew_mjj_hist*17.6*36/eventsProcessed(ewwz_file)\n",
    "qcd_mjj_hist = qcd_mjj_hist*4300*36/eventsProcessed(qcdwz_file)"
   ]
  },
  {
   "cell_type": "code",
   "execution_count": 1107,
   "metadata": {},
   "outputs": [
    {
     "data": {
      "text/plain": [
       "(array([6.8751936, 6.266304 , 5.1410304, 4.0746816, 5.4540288, 7.0063488]),\n",
       " array([  500,   750,  1000,  1250,  1500,  2000, 10000]),\n",
       " <a list of 6 Patch objects>)"
      ]
     },
     "execution_count": 1107,
     "metadata": {},
     "output_type": "execute_result"
    },
    {
     "data": {
      "image/png": "[encoded data removed]",
      "text/plain": [
       "<Figure size 432x288 with 1 Axes>"
      ]
     },
     "metadata": {
      "needs_background": "light"
     },
     "output_type": "display_data"
    }
   ],
   "source": [
    "plt.hist(bins[:-1], weights=qcd_mjj_hist, bins=bins, alpha=0.5)\n",
    "plt.hist(bins[:-1], weights=ew_mjj_hist, bins=bins, alpha=0.5, color='g')"
   ]
  },
  {
   "cell_type": "code",
   "execution_count": 1108,
   "metadata": {},
   "outputs": [
    {
     "name": "stdout",
     "output_type": "stream",
     "text": [
      "4.438671382301406\n"
     ]
    },
    {
     "data": {
      "text/plain": [
       "6"
      ]
     },
     "execution_count": 1108,
     "metadata": {},
     "output_type": "execute_result"
    }
   ],
   "source": [
    "print(approxLikelihood(ew_mjj_hist, qcd_mjj_hist))\n",
    "len(ew_mjj_hist)"
   ]
  },
  {
   "cell_type": "code",
   "execution_count": 1200,
   "metadata": {},
   "outputs": [
    {
     "name": "stdout",
     "output_type": "stream",
     "text": [
      "1.4434528695501636\n"
     ]
    }
   ],
   "source": [
    "print(approxLikelihood(ewhist, qcdhist)/approxLikelihood(ew_mjj_hist, qcd_mjj_hist))"
   ]
  },
  {
   "cell_type": "code",
   "execution_count": 787,
   "metadata": {},
   "outputs": [
    {
     "name": "stdout",
     "output_type": "stream",
     "text": [
      "Processed QCD 19762700.0\n",
      "Accepted loose QCD 14271\n"
     ]
    }
   ],
   "source": [
    "print(\"Processed QCD\", qcd_processed)\n",
    "print(\"Accepted loose QCD\", len(qcd_loose))"
   ]
  },
  {
   "cell_type": "code",
   "execution_count": 1113,
   "metadata": {},
   "outputs": [],
   "source": [
    "ew_bdt = X_test_ew[(X_test_ew.mjj > 500) & (abs(X_test_ew.dEtajj) > 2.5)]\n",
    "ew_bdt = X_test_qcd[(X_test_qcd.mjj > 500) & (abs(X_test_qcd.dEtajj) > 2.5)]\n",
    "ew_bdtTight_hist,bins = numpy.histogram(X_test_ew[\"predict\"])\n",
    "qcd_bdtTight_hist,bins = numpy.histogram(X_test_qcd[\"predict\"])\n",
    "#ew_bdtTight_hist = ew_bdtTight_hist*17.6*36/(eventsProcessed(ewwz_file)*testsize)\n",
    "#qcd_bdtTight_hist = qcd_bdtTight_hist*4300*36/(eventsProcessed(qcdwz_file)*testsize)"
   ]
  },
  {
   "cell_type": "code",
   "execution_count": 1114,
   "metadata": {},
   "outputs": [
    {
     "data": {
      "text/plain": [
       "(array([ 377., 4037., 5848., 5419., 4131., 3050., 2252., 1518., 1213.,\n",
       "         444.]),\n",
       " array([-1.2172543 , -0.98875153, -0.7602488 , -0.53174603, -0.30324328,\n",
       "        -0.07474053,  0.15376222,  0.38226497,  0.6107677 ,  0.8392705 ,\n",
       "         1.0677732 ], dtype=float32),\n",
       " <a list of 10 Patch objects>)"
      ]
     },
     "execution_count": 1114,
     "metadata": {},
     "output_type": "execute_result"
    },
    {
     "data": {
      "image/png": "[encoded data removed]",
      "text/plain": [
       "<Figure size 432x288 with 1 Axes>"
      ]
     },
     "metadata": {
      "needs_background": "light"
     },
     "output_type": "display_data"
    }
   ],
   "source": [
    "plt.hist(bins[:-1], weights=ew_bdtTight_hist, bins=bins, alpha=0.5, color='g', label='EW')\n",
    "plt.hist(bins[:-1], weights=qcd_bdtTight_hist, bins=bins, alpha=0.5, label='QCD')"
   ]
  },
  {
   "cell_type": "code",
   "execution_count": 1118,
   "metadata": {},
   "outputs": [],
   "source": [
    "bins=[0,250,500,1000,1250,1500,3000]\n",
    "ew_mjj_bdtTight_hist,bins = numpy.histogram(X_test_ew[X_test_ew.predict > 0.5][\"mjj\"], bins=bins)\n",
    "qcd_mjj_bdtTight_hist,bins = numpy.histogram(X_test_qcd[X_test_qcd.predict > 0.5][\"mjj\"], bins=bins)\n",
    "ew_mjj_bdtTight_hist = ew_mjj_bdtTight_hist*17.6*36/(eventsProcessed(ewwz_file)*testsize)\n",
    "qcd_mjj_bdtTight_hist = qcd_mjj_bdtTight_hist*4300*36/(eventsProcessed(qcdwz_file)*testsize)"
   ]
  },
  {
   "cell_type": "code",
   "execution_count": 1119,
   "metadata": {},
   "outputs": [
    {
     "data": {
      "text/plain": [
       "(array([ 0.125327  ,  3.46215851, 19.09670237,  5.51438822,  3.02351399,\n",
       "         4.84075556]),\n",
       " array([   0,  250,  500, 1000, 1250, 1500, 3000]),\n",
       " <a list of 6 Patch objects>)"
      ]
     },
     "execution_count": 1119,
     "metadata": {},
     "output_type": "execute_result"
    },
    {
     "data": {
      "image/png": "[encoded data removed]",
      "text/plain": [
       "<Figure size 432x288 with 1 Axes>"
      ]
     },
     "metadata": {
      "needs_background": "light"
     },
     "output_type": "display_data"
    }
   ],
   "source": [
    "plt.hist(bins[:-1], weights=ew_mjj_bdtTight_hist, bins=bins, alpha=0.5, color='g', label='EW')\n",
    "plt.hist(bins[:-1], weights=qcd_mjj_bdtTight_hist, bins=bins, alpha=0.5, label='QCD')"
   ]
  },
  {
   "cell_type": "code",
   "execution_count": 1120,
   "metadata": {},
   "outputs": [],
   "source": [
    "bins=[0,1,2,3,4,5,6]\n",
    "ew_etajj_bdtTight_hist,bins = numpy.histogram(abs(X_test_ew[X_test_ew.predict > 0.5][\"dEtajj\"]), bins=bins)\n",
    "qcd_etajj_bdtTight_hist,bins = numpy.histogram(abs(X_test_qcd[X_test_qcd.predict > 0.5][\"dEtajj\"]), bins=bins)\n",
    "ew_etajj_bdtTight_hist = ew_etajj_bdtTight_hist*17.6*36/(eventsProcessed(ewwz_file)*testsize)\n",
    "qcd_etajj_bdtTight_hist = qcd_etajj_bdtTight_hist*4300*36/(eventsProcessed(qcdwz_file)*testsize)"
   ]
  },
  {
   "cell_type": "code",
   "execution_count": 1121,
   "metadata": {},
   "outputs": [
    {
     "data": {
      "text/plain": [
       "(array([1.09661129, 3.55615376, 7.75460843, 9.57185   , 7.89560131,\n",
       "        4.21412054]),\n",
       " array([0, 1, 2, 3, 4, 5, 6]),\n",
       " <a list of 6 Patch objects>)"
      ]
     },
     "execution_count": 1121,
     "metadata": {},
     "output_type": "execute_result"
    },
    {
     "data": {
      "image/png": "[encoded data removed]",
      "text/plain": [
       "<Figure size 432x288 with 1 Axes>"
      ]
     },
     "metadata": {
      "needs_background": "light"
     },
     "output_type": "display_data"
    }
   ],
   "source": [
    "plt.hist(bins[:-1], weights=ew_etajj_bdtTight_hist, bins=bins, alpha=0.5, color='g', label='EW')\n",
    "plt.hist(bins[:-1], weights=qcd_etajj_bdtTight_hist, bins=bins, alpha=0.5, label='QCD')"
   ]
  },
  {
   "cell_type": "code",
   "execution_count": null,
   "metadata": {},
   "outputs": [],
   "source": []
  }
 ],
 "metadata": {
  "kernelspec": {
   "display_name": "Python 3",
   "language": "python",
   "name": "python3"
  },
  "language_info": {
   "codemirror_mode": {
    "name": "ipython",
    "version": 3
   },
   "file_extension": ".py",
   "mimetype": "text/x-python",
   "name": "python",
   "nbconvert_exporter": "python",
   "pygments_lexer": "ipython3",
   "version": "3.7.5"
  }
 },
 "nbformat": 4,
 "nbformat_minor": 2
}
