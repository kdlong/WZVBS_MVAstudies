{
 "cells": [
  {
   "cell_type": "code",
   "execution_count": 170,
   "metadata": {},
   "outputs": [],
   "source": [
    "import uproot\n",
    "import pandas"
   ]
  },
  {
   "cell_type": "code",
   "execution_count": 797,
   "metadata": {},
   "outputs": [],
   "source": [
    "def prepareDataset(dataset, chan, drop=[]):\n",
    "    df = dataset[chan][\"ntuple\"].pandas.df([\"jetPt\", \"nJets\", \"jetEta\", \"Mass\", \n",
    "                                            \"MTWZ\", \"mjj\", \"Eta\", \"MET\", \"jetPhi\", \"etajj\"], flatten=False)\n",
    "    filtered_df = df[df[\"mjj\"] > 200.].copy()\n",
    "    filtered_df[\"ptj1\"] = filtered_df[\"jetPt\"].str[0]\n",
    "    filtered_df[\"ptj2\"] = filtered_df[\"jetPt\"].str[1]\n",
    "    filtered_df[\"phij1\"] = filtered_df[\"jetPhi\"].str[0]\n",
    "    filtered_df[\"phij2\"] = filtered_df[\"jetPhi\"].str[1]\n",
    "    filtered_df[\"etaj1\"] = filtered_df[\"jetEta\"].str[0]\n",
    "    filtered_df[\"etaj2\"] = filtered_df[\"jetEta\"].str[1]\n",
    "    filtered_df[\"dEtajj\"] = filtered_df[\"etaj1\"] - filtered_df[\"etaj2\"]\n",
    "    filtered_df[\"dPhijj\"] = filtered_df[\"phij1\"] - filtered_df[\"phij2\"]\n",
    "    filtered_df[\"etas3l\"] = filtered_df[\"Eta\"] - 0.5*(filtered_df[\"etaj1\"] + filtered_df[\"etaj2\"])\n",
    "    filtered_df[\"zep3l\"] = filtered_df[\"etas3l\"]/filtered_df[\"dEtajj\"]\n",
    "    filtered_df = filtered_df.drop([\"jetEta\", \"jetPt\", \"jetPhi\"], axis=1)\n",
    "    #default_drop = [\"Mass\", \"MtToMET\", \"type1_pfMETEt\", \"nJets\", \"Eta\"]\n",
    "    default_drop = [\"MtToMET\", \"nJets\", \"Eta\", \"etajj\"]\n",
    "    drop.extend(default_drop)\n",
    "    filtered_df = filtered_df.drop(drop, axis=1)\n",
    "    return filtered_df"
   ]
  },
  {
   "cell_type": "code",
   "execution_count": 609,
   "metadata": {},
   "outputs": [],
   "source": [
    "def eventsProcessed(dataset):\n",
    "    df = dataset[\"metaInfo\"][\"metaInfo\"].pandas.df()\n",
    "    return sum(df[\"summedWeights\"])"
   ]
  },
  {
   "cell_type": "code",
   "execution_count": 798,
   "metadata": {},
   "outputs": [],
   "source": [
    "qcdwz_file = uproot.open(\"Data/2018-04-29-wz3lnu-powheg/combined.root\")\n",
    "ewwz_file = uproot.open(\"Data/2018-04-29-wlljj-ewk-WZxsec2016-3MediumLeptonsNoVetoToWselection-v1/combined.root\")\n",
    "ew_df = pandas.DataFrame()\n",
    "qcd_df = pandas.DataFrame()\n",
    "for chan in [\"eee\", \"eem\", \"emm\", \"mmm\"]:\n",
    "    ew_df = pandas.concat([ew_df, prepareDataset(ewwz_file, chan)])\n",
    "    qcd_df = pandas.concat([qcd_df, prepareDataset(qcdwz_file, chan)])"
   ]
  },
  {
   "cell_type": "code",
   "execution_count": 559,
   "metadata": {},
   "outputs": [
    {
     "data": {
      "text/plain": [
       "[]"
      ]
     },
     "execution_count": 559,
     "metadata": {},
     "output_type": "execute_result"
    }
   ],
   "source": []
  },
  {
   "cell_type": "code",
   "execution_count": 799,
   "metadata": {},
   "outputs": [
    {
     "data": {
      "text/html": [
       "<div>\n",
       "<style scoped>\n",
       "    .dataframe tbody tr th:only-of-type {\n",
       "        vertical-align: middle;\n",
       "    }\n",
       "\n",
       "    .dataframe tbody tr th {\n",
       "        vertical-align: top;\n",
       "    }\n",
       "\n",
       "    .dataframe thead th {\n",
       "        text-align: right;\n",
       "    }\n",
       "</style>\n",
       "<table border=\"1\" class=\"dataframe\">\n",
       "  <thead>\n",
       "    <tr style=\"text-align: right;\">\n",
       "      <th></th>\n",
       "      <th>Mass</th>\n",
       "      <th>mjj</th>\n",
       "      <th>type1_pfMETEt</th>\n",
       "      <th>ptj1</th>\n",
       "      <th>ptj2</th>\n",
       "      <th>phij1</th>\n",
       "      <th>phij2</th>\n",
       "      <th>etaj1</th>\n",
       "      <th>etaj2</th>\n",
       "      <th>dEtajj</th>\n",
       "      <th>dPhijj</th>\n",
       "      <th>etas3l</th>\n",
       "      <th>zep3l</th>\n",
       "      <th>isSignal</th>\n",
       "    </tr>\n",
       "    <tr>\n",
       "      <th>entry</th>\n",
       "      <th></th>\n",
       "      <th></th>\n",
       "      <th></th>\n",
       "      <th></th>\n",
       "      <th></th>\n",
       "      <th></th>\n",
       "      <th></th>\n",
       "      <th></th>\n",
       "      <th></th>\n",
       "      <th></th>\n",
       "      <th></th>\n",
       "      <th></th>\n",
       "      <th></th>\n",
       "      <th></th>\n",
       "    </tr>\n",
       "  </thead>\n",
       "  <tbody>\n",
       "    <tr>\n",
       "      <th>7</th>\n",
       "      <td>197.474213</td>\n",
       "      <td>1452.079590</td>\n",
       "      <td>56.381241</td>\n",
       "      <td>289.282349</td>\n",
       "      <td>90.630432</td>\n",
       "      <td>-0.400510</td>\n",
       "      <td>2.962561</td>\n",
       "      <td>-1.126147</td>\n",
       "      <td>3.234876</td>\n",
       "      <td>-4.361023</td>\n",
       "      <td>-3.363071</td>\n",
       "      <td>-1.854179</td>\n",
       "      <td>0.425171</td>\n",
       "      <td>-1</td>\n",
       "    </tr>\n",
       "    <tr>\n",
       "      <th>9</th>\n",
       "      <td>187.145844</td>\n",
       "      <td>538.557129</td>\n",
       "      <td>77.485161</td>\n",
       "      <td>104.530663</td>\n",
       "      <td>53.914455</td>\n",
       "      <td>2.947114</td>\n",
       "      <td>-2.388021</td>\n",
       "      <td>1.259367</td>\n",
       "      <td>-2.700934</td>\n",
       "      <td>3.960301</td>\n",
       "      <td>5.335135</td>\n",
       "      <td>1.722005</td>\n",
       "      <td>0.434817</td>\n",
       "      <td>-1</td>\n",
       "    </tr>\n",
       "    <tr>\n",
       "      <th>22</th>\n",
       "      <td>154.552063</td>\n",
       "      <td>248.347427</td>\n",
       "      <td>144.693771</td>\n",
       "      <td>270.434143</td>\n",
       "      <td>85.779564</td>\n",
       "      <td>-2.486557</td>\n",
       "      <td>1.944349</td>\n",
       "      <td>-0.087381</td>\n",
       "      <td>-0.261261</td>\n",
       "      <td>0.173881</td>\n",
       "      <td>-4.430906</td>\n",
       "      <td>0.928196</td>\n",
       "      <td>5.338115</td>\n",
       "      <td>-1</td>\n",
       "    </tr>\n",
       "    <tr>\n",
       "      <th>35</th>\n",
       "      <td>155.078537</td>\n",
       "      <td>1854.938965</td>\n",
       "      <td>65.275612</td>\n",
       "      <td>130.573730</td>\n",
       "      <td>111.357719</td>\n",
       "      <td>-3.101528</td>\n",
       "      <td>2.852166</td>\n",
       "      <td>-3.381214</td>\n",
       "      <td>2.092694</td>\n",
       "      <td>-5.473908</td>\n",
       "      <td>-5.953694</td>\n",
       "      <td>1.231963</td>\n",
       "      <td>-0.225061</td>\n",
       "      <td>-1</td>\n",
       "    </tr>\n",
       "    <tr>\n",
       "      <th>45</th>\n",
       "      <td>100.685013</td>\n",
       "      <td>286.303680</td>\n",
       "      <td>138.480896</td>\n",
       "      <td>127.941292</td>\n",
       "      <td>94.353279</td>\n",
       "      <td>0.029500</td>\n",
       "      <td>-0.937561</td>\n",
       "      <td>0.064766</td>\n",
       "      <td>2.111962</td>\n",
       "      <td>-2.047197</td>\n",
       "      <td>0.967060</td>\n",
       "      <td>-0.906718</td>\n",
       "      <td>0.442907</td>\n",
       "      <td>-1</td>\n",
       "    </tr>\n",
       "    <tr>\n",
       "      <th>...</th>\n",
       "      <td>...</td>\n",
       "      <td>...</td>\n",
       "      <td>...</td>\n",
       "      <td>...</td>\n",
       "      <td>...</td>\n",
       "      <td>...</td>\n",
       "      <td>...</td>\n",
       "      <td>...</td>\n",
       "      <td>...</td>\n",
       "      <td>...</td>\n",
       "      <td>...</td>\n",
       "      <td>...</td>\n",
       "      <td>...</td>\n",
       "      <td>...</td>\n",
       "    </tr>\n",
       "    <tr>\n",
       "      <th>184338</th>\n",
       "      <td>126.538589</td>\n",
       "      <td>302.836609</td>\n",
       "      <td>36.802418</td>\n",
       "      <td>86.039040</td>\n",
       "      <td>30.506975</td>\n",
       "      <td>3.018838</td>\n",
       "      <td>-0.344050</td>\n",
       "      <td>1.076493</td>\n",
       "      <td>-2.413027</td>\n",
       "      <td>3.489520</td>\n",
       "      <td>3.362889</td>\n",
       "      <td>2.485109</td>\n",
       "      <td>0.712164</td>\n",
       "      <td>-1</td>\n",
       "    </tr>\n",
       "    <tr>\n",
       "      <th>184343</th>\n",
       "      <td>126.448036</td>\n",
       "      <td>396.767975</td>\n",
       "      <td>85.008743</td>\n",
       "      <td>143.450394</td>\n",
       "      <td>33.921539</td>\n",
       "      <td>0.267259</td>\n",
       "      <td>2.624281</td>\n",
       "      <td>-0.282596</td>\n",
       "      <td>-3.680607</td>\n",
       "      <td>3.398010</td>\n",
       "      <td>-2.357022</td>\n",
       "      <td>3.352751</td>\n",
       "      <td>0.986681</td>\n",
       "      <td>-1</td>\n",
       "    </tr>\n",
       "    <tr>\n",
       "      <th>184349</th>\n",
       "      <td>661.758911</td>\n",
       "      <td>1305.660278</td>\n",
       "      <td>71.650558</td>\n",
       "      <td>319.437012</td>\n",
       "      <td>44.154739</td>\n",
       "      <td>-0.720459</td>\n",
       "      <td>0.713821</td>\n",
       "      <td>-1.928186</td>\n",
       "      <td>2.867761</td>\n",
       "      <td>-4.795947</td>\n",
       "      <td>-1.434279</td>\n",
       "      <td>0.256921</td>\n",
       "      <td>-0.053570</td>\n",
       "      <td>-1</td>\n",
       "    </tr>\n",
       "    <tr>\n",
       "      <th>184353</th>\n",
       "      <td>209.705765</td>\n",
       "      <td>286.740295</td>\n",
       "      <td>43.815758</td>\n",
       "      <td>55.854309</td>\n",
       "      <td>34.972054</td>\n",
       "      <td>-0.068719</td>\n",
       "      <td>-1.710891</td>\n",
       "      <td>2.186432</td>\n",
       "      <td>-1.546045</td>\n",
       "      <td>3.732477</td>\n",
       "      <td>1.642172</td>\n",
       "      <td>1.253341</td>\n",
       "      <td>0.335793</td>\n",
       "      <td>-1</td>\n",
       "    </tr>\n",
       "    <tr>\n",
       "      <th>184355</th>\n",
       "      <td>196.162354</td>\n",
       "      <td>894.591614</td>\n",
       "      <td>31.338120</td>\n",
       "      <td>61.505245</td>\n",
       "      <td>36.928017</td>\n",
       "      <td>1.063331</td>\n",
       "      <td>-2.255326</td>\n",
       "      <td>2.662323</td>\n",
       "      <td>-3.196422</td>\n",
       "      <td>5.858745</td>\n",
       "      <td>3.318656</td>\n",
       "      <td>0.875113</td>\n",
       "      <td>0.149369</td>\n",
       "      <td>-1</td>\n",
       "    </tr>\n",
       "  </tbody>\n",
       "</table>\n",
       "<p>56483 rows × 14 columns</p>\n",
       "</div>"
      ],
      "text/plain": [
       "              Mass          mjj  type1_pfMETEt        ptj1        ptj2  \\\n",
       "entry                                                                    \n",
       "7       197.474213  1452.079590      56.381241  289.282349   90.630432   \n",
       "9       187.145844   538.557129      77.485161  104.530663   53.914455   \n",
       "22      154.552063   248.347427     144.693771  270.434143   85.779564   \n",
       "35      155.078537  1854.938965      65.275612  130.573730  111.357719   \n",
       "45      100.685013   286.303680     138.480896  127.941292   94.353279   \n",
       "...            ...          ...            ...         ...         ...   \n",
       "184338  126.538589   302.836609      36.802418   86.039040   30.506975   \n",
       "184343  126.448036   396.767975      85.008743  143.450394   33.921539   \n",
       "184349  661.758911  1305.660278      71.650558  319.437012   44.154739   \n",
       "184353  209.705765   286.740295      43.815758   55.854309   34.972054   \n",
       "184355  196.162354   894.591614      31.338120   61.505245   36.928017   \n",
       "\n",
       "           phij1     phij2     etaj1     etaj2    dEtajj    dPhijj    etas3l  \\\n",
       "entry                                                                          \n",
       "7      -0.400510  2.962561 -1.126147  3.234876 -4.361023 -3.363071 -1.854179   \n",
       "9       2.947114 -2.388021  1.259367 -2.700934  3.960301  5.335135  1.722005   \n",
       "22     -2.486557  1.944349 -0.087381 -0.261261  0.173881 -4.430906  0.928196   \n",
       "35     -3.101528  2.852166 -3.381214  2.092694 -5.473908 -5.953694  1.231963   \n",
       "45      0.029500 -0.937561  0.064766  2.111962 -2.047197  0.967060 -0.906718   \n",
       "...          ...       ...       ...       ...       ...       ...       ...   \n",
       "184338  3.018838 -0.344050  1.076493 -2.413027  3.489520  3.362889  2.485109   \n",
       "184343  0.267259  2.624281 -0.282596 -3.680607  3.398010 -2.357022  3.352751   \n",
       "184349 -0.720459  0.713821 -1.928186  2.867761 -4.795947 -1.434279  0.256921   \n",
       "184353 -0.068719 -1.710891  2.186432 -1.546045  3.732477  1.642172  1.253341   \n",
       "184355  1.063331 -2.255326  2.662323 -3.196422  5.858745  3.318656  0.875113   \n",
       "\n",
       "           zep3l  isSignal  \n",
       "entry                       \n",
       "7       0.425171        -1  \n",
       "9       0.434817        -1  \n",
       "22      5.338115        -1  \n",
       "35     -0.225061        -1  \n",
       "45      0.442907        -1  \n",
       "...          ...       ...  \n",
       "184338  0.712164        -1  \n",
       "184343  0.986681        -1  \n",
       "184349 -0.053570        -1  \n",
       "184353  0.335793        -1  \n",
       "184355  0.149369        -1  \n",
       "\n",
       "[56483 rows x 14 columns]"
      ]
     },
     "execution_count": 799,
     "metadata": {},
     "output_type": "execute_result"
    }
   ],
   "source": [
    "qcd_df[\"isSignal\"] = -1\n",
    "qcd_df"
   ]
  },
  {
   "cell_type": "code",
   "execution_count": 800,
   "metadata": {},
   "outputs": [
    {
     "data": {
      "text/html": [
       "<div>\n",
       "<style scoped>\n",
       "    .dataframe tbody tr th:only-of-type {\n",
       "        vertical-align: middle;\n",
       "    }\n",
       "\n",
       "    .dataframe tbody tr th {\n",
       "        vertical-align: top;\n",
       "    }\n",
       "\n",
       "    .dataframe thead th {\n",
       "        text-align: right;\n",
       "    }\n",
       "</style>\n",
       "<table border=\"1\" class=\"dataframe\">\n",
       "  <thead>\n",
       "    <tr style=\"text-align: right;\">\n",
       "      <th></th>\n",
       "      <th>Mass</th>\n",
       "      <th>mjj</th>\n",
       "      <th>type1_pfMETEt</th>\n",
       "      <th>ptj1</th>\n",
       "      <th>ptj2</th>\n",
       "      <th>phij1</th>\n",
       "      <th>phij2</th>\n",
       "      <th>etaj1</th>\n",
       "      <th>etaj2</th>\n",
       "      <th>dEtajj</th>\n",
       "      <th>dPhijj</th>\n",
       "      <th>etas3l</th>\n",
       "      <th>zep3l</th>\n",
       "      <th>isSignal</th>\n",
       "    </tr>\n",
       "    <tr>\n",
       "      <th>entry</th>\n",
       "      <th></th>\n",
       "      <th></th>\n",
       "      <th></th>\n",
       "      <th></th>\n",
       "      <th></th>\n",
       "      <th></th>\n",
       "      <th></th>\n",
       "      <th></th>\n",
       "      <th></th>\n",
       "      <th></th>\n",
       "      <th></th>\n",
       "      <th></th>\n",
       "      <th></th>\n",
       "      <th></th>\n",
       "    </tr>\n",
       "  </thead>\n",
       "  <tbody>\n",
       "    <tr>\n",
       "      <th>1</th>\n",
       "      <td>231.138519</td>\n",
       "      <td>744.512634</td>\n",
       "      <td>70.754158</td>\n",
       "      <td>244.329880</td>\n",
       "      <td>70.080750</td>\n",
       "      <td>-0.952728</td>\n",
       "      <td>1.927766</td>\n",
       "      <td>0.964082</td>\n",
       "      <td>-2.448253</td>\n",
       "      <td>3.412335</td>\n",
       "      <td>-2.880494</td>\n",
       "      <td>0.437715</td>\n",
       "      <td>0.128274</td>\n",
       "      <td>1</td>\n",
       "    </tr>\n",
       "    <tr>\n",
       "      <th>2</th>\n",
       "      <td>346.155365</td>\n",
       "      <td>1094.974487</td>\n",
       "      <td>102.971786</td>\n",
       "      <td>116.069794</td>\n",
       "      <td>36.278889</td>\n",
       "      <td>2.033741</td>\n",
       "      <td>-0.081956</td>\n",
       "      <td>3.470814</td>\n",
       "      <td>-2.176313</td>\n",
       "      <td>5.647127</td>\n",
       "      <td>2.115696</td>\n",
       "      <td>1.624409</td>\n",
       "      <td>0.287652</td>\n",
       "      <td>1</td>\n",
       "    </tr>\n",
       "    <tr>\n",
       "      <th>3</th>\n",
       "      <td>264.256012</td>\n",
       "      <td>566.254272</td>\n",
       "      <td>95.062729</td>\n",
       "      <td>362.949463</td>\n",
       "      <td>43.012203</td>\n",
       "      <td>1.237676</td>\n",
       "      <td>2.603570</td>\n",
       "      <td>-2.759324</td>\n",
       "      <td>0.269961</td>\n",
       "      <td>-3.029285</td>\n",
       "      <td>-1.365894</td>\n",
       "      <td>2.051357</td>\n",
       "      <td>-0.677175</td>\n",
       "      <td>1</td>\n",
       "    </tr>\n",
       "    <tr>\n",
       "      <th>5</th>\n",
       "      <td>130.684494</td>\n",
       "      <td>1426.736206</td>\n",
       "      <td>255.066833</td>\n",
       "      <td>254.638641</td>\n",
       "      <td>56.844784</td>\n",
       "      <td>0.322746</td>\n",
       "      <td>-0.778865</td>\n",
       "      <td>1.564925</td>\n",
       "      <td>-3.387091</td>\n",
       "      <td>4.952016</td>\n",
       "      <td>1.101611</td>\n",
       "      <td>1.663050</td>\n",
       "      <td>0.335833</td>\n",
       "      <td>1</td>\n",
       "    </tr>\n",
       "    <tr>\n",
       "      <th>6</th>\n",
       "      <td>215.936279</td>\n",
       "      <td>1171.368896</td>\n",
       "      <td>50.207115</td>\n",
       "      <td>117.201912</td>\n",
       "      <td>40.458477</td>\n",
       "      <td>0.124267</td>\n",
       "      <td>-2.985926</td>\n",
       "      <td>-2.029130</td>\n",
       "      <td>3.631071</td>\n",
       "      <td>-5.660201</td>\n",
       "      <td>3.110194</td>\n",
       "      <td>0.525862</td>\n",
       "      <td>-0.092905</td>\n",
       "      <td>1</td>\n",
       "    </tr>\n",
       "    <tr>\n",
       "      <th>...</th>\n",
       "      <td>...</td>\n",
       "      <td>...</td>\n",
       "      <td>...</td>\n",
       "      <td>...</td>\n",
       "      <td>...</td>\n",
       "      <td>...</td>\n",
       "      <td>...</td>\n",
       "      <td>...</td>\n",
       "      <td>...</td>\n",
       "      <td>...</td>\n",
       "      <td>...</td>\n",
       "      <td>...</td>\n",
       "      <td>...</td>\n",
       "      <td>...</td>\n",
       "    </tr>\n",
       "    <tr>\n",
       "      <th>38931</th>\n",
       "      <td>549.119568</td>\n",
       "      <td>665.170044</td>\n",
       "      <td>67.633163</td>\n",
       "      <td>492.240631</td>\n",
       "      <td>148.574539</td>\n",
       "      <td>2.771630</td>\n",
       "      <td>0.224134</td>\n",
       "      <td>-0.191494</td>\n",
       "      <td>1.224140</td>\n",
       "      <td>-1.415634</td>\n",
       "      <td>2.547495</td>\n",
       "      <td>-0.864858</td>\n",
       "      <td>0.610934</td>\n",
       "      <td>1</td>\n",
       "    </tr>\n",
       "    <tr>\n",
       "      <th>38932</th>\n",
       "      <td>143.280563</td>\n",
       "      <td>549.855103</td>\n",
       "      <td>79.507683</td>\n",
       "      <td>397.701080</td>\n",
       "      <td>94.984352</td>\n",
       "      <td>0.455766</td>\n",
       "      <td>-3.040766</td>\n",
       "      <td>-0.545479</td>\n",
       "      <td>1.218699</td>\n",
       "      <td>-1.764178</td>\n",
       "      <td>3.496532</td>\n",
       "      <td>-1.048760</td>\n",
       "      <td>0.594475</td>\n",
       "      <td>1</td>\n",
       "    </tr>\n",
       "    <tr>\n",
       "      <th>38934</th>\n",
       "      <td>280.429840</td>\n",
       "      <td>1536.218506</td>\n",
       "      <td>109.654442</td>\n",
       "      <td>127.344757</td>\n",
       "      <td>71.345322</td>\n",
       "      <td>-0.883576</td>\n",
       "      <td>-2.591212</td>\n",
       "      <td>1.629912</td>\n",
       "      <td>-3.927989</td>\n",
       "      <td>5.557900</td>\n",
       "      <td>1.707636</td>\n",
       "      <td>3.057300</td>\n",
       "      <td>0.550082</td>\n",
       "      <td>1</td>\n",
       "    </tr>\n",
       "    <tr>\n",
       "      <th>38936</th>\n",
       "      <td>122.427002</td>\n",
       "      <td>603.147766</td>\n",
       "      <td>72.627686</td>\n",
       "      <td>282.241791</td>\n",
       "      <td>186.287735</td>\n",
       "      <td>1.352486</td>\n",
       "      <td>-2.177795</td>\n",
       "      <td>1.540131</td>\n",
       "      <td>-0.020116</td>\n",
       "      <td>1.560247</td>\n",
       "      <td>3.530281</td>\n",
       "      <td>-1.553543</td>\n",
       "      <td>-0.995703</td>\n",
       "      <td>1</td>\n",
       "    </tr>\n",
       "    <tr>\n",
       "      <th>38937</th>\n",
       "      <td>129.479095</td>\n",
       "      <td>875.167969</td>\n",
       "      <td>36.954948</td>\n",
       "      <td>302.259613</td>\n",
       "      <td>265.886841</td>\n",
       "      <td>-2.622818</td>\n",
       "      <td>0.641504</td>\n",
       "      <td>-1.690876</td>\n",
       "      <td>0.300713</td>\n",
       "      <td>-1.991589</td>\n",
       "      <td>-3.264322</td>\n",
       "      <td>-1.074849</td>\n",
       "      <td>0.539694</td>\n",
       "      <td>1</td>\n",
       "    </tr>\n",
       "  </tbody>\n",
       "</table>\n",
       "<p>85567 rows × 14 columns</p>\n",
       "</div>"
      ],
      "text/plain": [
       "             Mass          mjj  type1_pfMETEt        ptj1        ptj2  \\\n",
       "entry                                                                   \n",
       "1      231.138519   744.512634      70.754158  244.329880   70.080750   \n",
       "2      346.155365  1094.974487     102.971786  116.069794   36.278889   \n",
       "3      264.256012   566.254272      95.062729  362.949463   43.012203   \n",
       "5      130.684494  1426.736206     255.066833  254.638641   56.844784   \n",
       "6      215.936279  1171.368896      50.207115  117.201912   40.458477   \n",
       "...           ...          ...            ...         ...         ...   \n",
       "38931  549.119568   665.170044      67.633163  492.240631  148.574539   \n",
       "38932  143.280563   549.855103      79.507683  397.701080   94.984352   \n",
       "38934  280.429840  1536.218506     109.654442  127.344757   71.345322   \n",
       "38936  122.427002   603.147766      72.627686  282.241791  186.287735   \n",
       "38937  129.479095   875.167969      36.954948  302.259613  265.886841   \n",
       "\n",
       "          phij1     phij2     etaj1     etaj2    dEtajj    dPhijj    etas3l  \\\n",
       "entry                                                                         \n",
       "1     -0.952728  1.927766  0.964082 -2.448253  3.412335 -2.880494  0.437715   \n",
       "2      2.033741 -0.081956  3.470814 -2.176313  5.647127  2.115696  1.624409   \n",
       "3      1.237676  2.603570 -2.759324  0.269961 -3.029285 -1.365894  2.051357   \n",
       "5      0.322746 -0.778865  1.564925 -3.387091  4.952016  1.101611  1.663050   \n",
       "6      0.124267 -2.985926 -2.029130  3.631071 -5.660201  3.110194  0.525862   \n",
       "...         ...       ...       ...       ...       ...       ...       ...   \n",
       "38931  2.771630  0.224134 -0.191494  1.224140 -1.415634  2.547495 -0.864858   \n",
       "38932  0.455766 -3.040766 -0.545479  1.218699 -1.764178  3.496532 -1.048760   \n",
       "38934 -0.883576 -2.591212  1.629912 -3.927989  5.557900  1.707636  3.057300   \n",
       "38936  1.352486 -2.177795  1.540131 -0.020116  1.560247  3.530281 -1.553543   \n",
       "38937 -2.622818  0.641504 -1.690876  0.300713 -1.991589 -3.264322 -1.074849   \n",
       "\n",
       "          zep3l  isSignal  \n",
       "entry                      \n",
       "1      0.128274         1  \n",
       "2      0.287652         1  \n",
       "3     -0.677175         1  \n",
       "5      0.335833         1  \n",
       "6     -0.092905         1  \n",
       "...         ...       ...  \n",
       "38931  0.610934         1  \n",
       "38932  0.594475         1  \n",
       "38934  0.550082         1  \n",
       "38936 -0.995703         1  \n",
       "38937  0.539694         1  \n",
       "\n",
       "[85567 rows x 14 columns]"
      ]
     },
     "execution_count": 800,
     "metadata": {},
     "output_type": "execute_result"
    }
   ],
   "source": [
    "ew_df[\"isSignal\"] = 1\n",
    "ew_df"
   ]
  },
  {
   "cell_type": "code",
   "execution_count": 801,
   "metadata": {},
   "outputs": [
    {
     "data": {
      "text/html": [
       "<div>\n",
       "<style scoped>\n",
       "    .dataframe tbody tr th:only-of-type {\n",
       "        vertical-align: middle;\n",
       "    }\n",
       "\n",
       "    .dataframe tbody tr th {\n",
       "        vertical-align: top;\n",
       "    }\n",
       "\n",
       "    .dataframe thead th {\n",
       "        text-align: right;\n",
       "    }\n",
       "</style>\n",
       "<table border=\"1\" class=\"dataframe\">\n",
       "  <thead>\n",
       "    <tr style=\"text-align: right;\">\n",
       "      <th></th>\n",
       "      <th>Mass</th>\n",
       "      <th>mjj</th>\n",
       "      <th>type1_pfMETEt</th>\n",
       "      <th>ptj1</th>\n",
       "      <th>ptj2</th>\n",
       "      <th>phij1</th>\n",
       "      <th>phij2</th>\n",
       "      <th>etaj1</th>\n",
       "      <th>etaj2</th>\n",
       "      <th>dEtajj</th>\n",
       "      <th>dPhijj</th>\n",
       "      <th>etas3l</th>\n",
       "      <th>zep3l</th>\n",
       "      <th>isSignal</th>\n",
       "    </tr>\n",
       "    <tr>\n",
       "      <th>entry</th>\n",
       "      <th></th>\n",
       "      <th></th>\n",
       "      <th></th>\n",
       "      <th></th>\n",
       "      <th></th>\n",
       "      <th></th>\n",
       "      <th></th>\n",
       "      <th></th>\n",
       "      <th></th>\n",
       "      <th></th>\n",
       "      <th></th>\n",
       "      <th></th>\n",
       "      <th></th>\n",
       "      <th></th>\n",
       "    </tr>\n",
       "  </thead>\n",
       "  <tbody>\n",
       "    <tr>\n",
       "      <th>1</th>\n",
       "      <td>231.138519</td>\n",
       "      <td>744.512634</td>\n",
       "      <td>70.754158</td>\n",
       "      <td>244.329880</td>\n",
       "      <td>70.080750</td>\n",
       "      <td>-0.952728</td>\n",
       "      <td>1.927766</td>\n",
       "      <td>0.964082</td>\n",
       "      <td>-2.448253</td>\n",
       "      <td>3.412335</td>\n",
       "      <td>-2.880494</td>\n",
       "      <td>0.437715</td>\n",
       "      <td>0.128274</td>\n",
       "      <td>1</td>\n",
       "    </tr>\n",
       "    <tr>\n",
       "      <th>2</th>\n",
       "      <td>346.155365</td>\n",
       "      <td>1094.974487</td>\n",
       "      <td>102.971786</td>\n",
       "      <td>116.069794</td>\n",
       "      <td>36.278889</td>\n",
       "      <td>2.033741</td>\n",
       "      <td>-0.081956</td>\n",
       "      <td>3.470814</td>\n",
       "      <td>-2.176313</td>\n",
       "      <td>5.647127</td>\n",
       "      <td>2.115696</td>\n",
       "      <td>1.624409</td>\n",
       "      <td>0.287652</td>\n",
       "      <td>1</td>\n",
       "    </tr>\n",
       "    <tr>\n",
       "      <th>3</th>\n",
       "      <td>264.256012</td>\n",
       "      <td>566.254272</td>\n",
       "      <td>95.062729</td>\n",
       "      <td>362.949463</td>\n",
       "      <td>43.012203</td>\n",
       "      <td>1.237676</td>\n",
       "      <td>2.603570</td>\n",
       "      <td>-2.759324</td>\n",
       "      <td>0.269961</td>\n",
       "      <td>-3.029285</td>\n",
       "      <td>-1.365894</td>\n",
       "      <td>2.051357</td>\n",
       "      <td>-0.677175</td>\n",
       "      <td>1</td>\n",
       "    </tr>\n",
       "    <tr>\n",
       "      <th>5</th>\n",
       "      <td>130.684494</td>\n",
       "      <td>1426.736206</td>\n",
       "      <td>255.066833</td>\n",
       "      <td>254.638641</td>\n",
       "      <td>56.844784</td>\n",
       "      <td>0.322746</td>\n",
       "      <td>-0.778865</td>\n",
       "      <td>1.564925</td>\n",
       "      <td>-3.387091</td>\n",
       "      <td>4.952016</td>\n",
       "      <td>1.101611</td>\n",
       "      <td>1.663050</td>\n",
       "      <td>0.335833</td>\n",
       "      <td>1</td>\n",
       "    </tr>\n",
       "    <tr>\n",
       "      <th>6</th>\n",
       "      <td>215.936279</td>\n",
       "      <td>1171.368896</td>\n",
       "      <td>50.207115</td>\n",
       "      <td>117.201912</td>\n",
       "      <td>40.458477</td>\n",
       "      <td>0.124267</td>\n",
       "      <td>-2.985926</td>\n",
       "      <td>-2.029130</td>\n",
       "      <td>3.631071</td>\n",
       "      <td>-5.660201</td>\n",
       "      <td>3.110194</td>\n",
       "      <td>0.525862</td>\n",
       "      <td>-0.092905</td>\n",
       "      <td>1</td>\n",
       "    </tr>\n",
       "    <tr>\n",
       "      <th>...</th>\n",
       "      <td>...</td>\n",
       "      <td>...</td>\n",
       "      <td>...</td>\n",
       "      <td>...</td>\n",
       "      <td>...</td>\n",
       "      <td>...</td>\n",
       "      <td>...</td>\n",
       "      <td>...</td>\n",
       "      <td>...</td>\n",
       "      <td>...</td>\n",
       "      <td>...</td>\n",
       "      <td>...</td>\n",
       "      <td>...</td>\n",
       "      <td>...</td>\n",
       "    </tr>\n",
       "    <tr>\n",
       "      <th>184338</th>\n",
       "      <td>126.538589</td>\n",
       "      <td>302.836609</td>\n",
       "      <td>36.802418</td>\n",
       "      <td>86.039040</td>\n",
       "      <td>30.506975</td>\n",
       "      <td>3.018838</td>\n",
       "      <td>-0.344050</td>\n",
       "      <td>1.076493</td>\n",
       "      <td>-2.413027</td>\n",
       "      <td>3.489520</td>\n",
       "      <td>3.362889</td>\n",
       "      <td>2.485109</td>\n",
       "      <td>0.712164</td>\n",
       "      <td>-1</td>\n",
       "    </tr>\n",
       "    <tr>\n",
       "      <th>184343</th>\n",
       "      <td>126.448036</td>\n",
       "      <td>396.767975</td>\n",
       "      <td>85.008743</td>\n",
       "      <td>143.450394</td>\n",
       "      <td>33.921539</td>\n",
       "      <td>0.267259</td>\n",
       "      <td>2.624281</td>\n",
       "      <td>-0.282596</td>\n",
       "      <td>-3.680607</td>\n",
       "      <td>3.398010</td>\n",
       "      <td>-2.357022</td>\n",
       "      <td>3.352751</td>\n",
       "      <td>0.986681</td>\n",
       "      <td>-1</td>\n",
       "    </tr>\n",
       "    <tr>\n",
       "      <th>184349</th>\n",
       "      <td>661.758911</td>\n",
       "      <td>1305.660278</td>\n",
       "      <td>71.650558</td>\n",
       "      <td>319.437012</td>\n",
       "      <td>44.154739</td>\n",
       "      <td>-0.720459</td>\n",
       "      <td>0.713821</td>\n",
       "      <td>-1.928186</td>\n",
       "      <td>2.867761</td>\n",
       "      <td>-4.795947</td>\n",
       "      <td>-1.434279</td>\n",
       "      <td>0.256921</td>\n",
       "      <td>-0.053570</td>\n",
       "      <td>-1</td>\n",
       "    </tr>\n",
       "    <tr>\n",
       "      <th>184353</th>\n",
       "      <td>209.705765</td>\n",
       "      <td>286.740295</td>\n",
       "      <td>43.815758</td>\n",
       "      <td>55.854309</td>\n",
       "      <td>34.972054</td>\n",
       "      <td>-0.068719</td>\n",
       "      <td>-1.710891</td>\n",
       "      <td>2.186432</td>\n",
       "      <td>-1.546045</td>\n",
       "      <td>3.732477</td>\n",
       "      <td>1.642172</td>\n",
       "      <td>1.253341</td>\n",
       "      <td>0.335793</td>\n",
       "      <td>-1</td>\n",
       "    </tr>\n",
       "    <tr>\n",
       "      <th>184355</th>\n",
       "      <td>196.162354</td>\n",
       "      <td>894.591614</td>\n",
       "      <td>31.338120</td>\n",
       "      <td>61.505245</td>\n",
       "      <td>36.928017</td>\n",
       "      <td>1.063331</td>\n",
       "      <td>-2.255326</td>\n",
       "      <td>2.662323</td>\n",
       "      <td>-3.196422</td>\n",
       "      <td>5.858745</td>\n",
       "      <td>3.318656</td>\n",
       "      <td>0.875113</td>\n",
       "      <td>0.149369</td>\n",
       "      <td>-1</td>\n",
       "    </tr>\n",
       "  </tbody>\n",
       "</table>\n",
       "<p>142050 rows × 14 columns</p>\n",
       "</div>"
      ],
      "text/plain": [
       "              Mass          mjj  type1_pfMETEt        ptj1       ptj2  \\\n",
       "entry                                                                   \n",
       "1       231.138519   744.512634      70.754158  244.329880  70.080750   \n",
       "2       346.155365  1094.974487     102.971786  116.069794  36.278889   \n",
       "3       264.256012   566.254272      95.062729  362.949463  43.012203   \n",
       "5       130.684494  1426.736206     255.066833  254.638641  56.844784   \n",
       "6       215.936279  1171.368896      50.207115  117.201912  40.458477   \n",
       "...            ...          ...            ...         ...        ...   \n",
       "184338  126.538589   302.836609      36.802418   86.039040  30.506975   \n",
       "184343  126.448036   396.767975      85.008743  143.450394  33.921539   \n",
       "184349  661.758911  1305.660278      71.650558  319.437012  44.154739   \n",
       "184353  209.705765   286.740295      43.815758   55.854309  34.972054   \n",
       "184355  196.162354   894.591614      31.338120   61.505245  36.928017   \n",
       "\n",
       "           phij1     phij2     etaj1     etaj2    dEtajj    dPhijj    etas3l  \\\n",
       "entry                                                                          \n",
       "1      -0.952728  1.927766  0.964082 -2.448253  3.412335 -2.880494  0.437715   \n",
       "2       2.033741 -0.081956  3.470814 -2.176313  5.647127  2.115696  1.624409   \n",
       "3       1.237676  2.603570 -2.759324  0.269961 -3.029285 -1.365894  2.051357   \n",
       "5       0.322746 -0.778865  1.564925 -3.387091  4.952016  1.101611  1.663050   \n",
       "6       0.124267 -2.985926 -2.029130  3.631071 -5.660201  3.110194  0.525862   \n",
       "...          ...       ...       ...       ...       ...       ...       ...   \n",
       "184338  3.018838 -0.344050  1.076493 -2.413027  3.489520  3.362889  2.485109   \n",
       "184343  0.267259  2.624281 -0.282596 -3.680607  3.398010 -2.357022  3.352751   \n",
       "184349 -0.720459  0.713821 -1.928186  2.867761 -4.795947 -1.434279  0.256921   \n",
       "184353 -0.068719 -1.710891  2.186432 -1.546045  3.732477  1.642172  1.253341   \n",
       "184355  1.063331 -2.255326  2.662323 -3.196422  5.858745  3.318656  0.875113   \n",
       "\n",
       "           zep3l  isSignal  \n",
       "entry                       \n",
       "1       0.128274         1  \n",
       "2       0.287652         1  \n",
       "3      -0.677175         1  \n",
       "5       0.335833         1  \n",
       "6      -0.092905         1  \n",
       "...          ...       ...  \n",
       "184338  0.712164        -1  \n",
       "184343  0.986681        -1  \n",
       "184349 -0.053570        -1  \n",
       "184353  0.335793        -1  \n",
       "184355  0.149369        -1  \n",
       "\n",
       "[142050 rows x 14 columns]"
      ]
     },
     "execution_count": 801,
     "metadata": {},
     "output_type": "execute_result"
    }
   ],
   "source": [
    "full_df = pandas.concat([ew_df, qcd_df], sort=False)\n",
    "truth_df = full_df[\"isSignal\"]\n",
    "train_full_df = full_df.drop([\"isSignal\"], axis=1)\n",
    "full_df"
   ]
  },
  {
   "cell_type": "code",
   "execution_count": 802,
   "metadata": {},
   "outputs": [],
   "source": [
    "from sklearn.model_selection import train_test_split\n",
    "testsize=0.5\n",
    "X_train, X_test, y_train, y_test = train_test_split(full_df, truth_df, test_size=testsize, random_state=42)\n",
    "X_test_ew = X_test[X_test[\"isSignal\"] > 0]\n",
    "X_test_qcd = X_test[X_test[\"isSignal\"] < 0]\n",
    "X_train = X_train.drop([\"isSignal\"], axis=1)\n",
    "X_test = X_test.drop([\"isSignal\"], axis=1)\n",
    "X_test_qcd = X_test_qcd.drop([\"isSignal\"], axis=1)\n",
    "X_test_ew = X_test_ew.drop([\"isSignal\"], axis=1)"
   ]
  },
  {
   "cell_type": "code",
   "execution_count": 178,
   "metadata": {},
   "outputs": [],
   "source": [
    "import xgboost as xgb"
   ]
  },
  {
   "cell_type": "code",
   "execution_count": 137,
   "metadata": {},
   "outputs": [
    {
     "data": {
      "text/html": [
       "<div>\n",
       "<style scoped>\n",
       "    .dataframe tbody tr th:only-of-type {\n",
       "        vertical-align: middle;\n",
       "    }\n",
       "\n",
       "    .dataframe tbody tr th {\n",
       "        vertical-align: top;\n",
       "    }\n",
       "\n",
       "    .dataframe thead th {\n",
       "        text-align: right;\n",
       "    }\n",
       "</style>\n",
       "<table border=\"1\" class=\"dataframe\">\n",
       "  <thead>\n",
       "    <tr style=\"text-align: right;\">\n",
       "      <th></th>\n",
       "      <th>mjj</th>\n",
       "      <th>ptj1</th>\n",
       "      <th>ptj2</th>\n",
       "      <th>phij1</th>\n",
       "      <th>phij2</th>\n",
       "      <th>etaj1</th>\n",
       "      <th>etaj2</th>\n",
       "      <th>dEtajj</th>\n",
       "      <th>dPhijj</th>\n",
       "      <th>etas3l</th>\n",
       "      <th>zep3l</th>\n",
       "    </tr>\n",
       "    <tr>\n",
       "      <th>entry</th>\n",
       "      <th></th>\n",
       "      <th></th>\n",
       "      <th></th>\n",
       "      <th></th>\n",
       "      <th></th>\n",
       "      <th></th>\n",
       "      <th></th>\n",
       "      <th></th>\n",
       "      <th></th>\n",
       "      <th></th>\n",
       "      <th></th>\n",
       "    </tr>\n",
       "  </thead>\n",
       "  <tbody>\n",
       "    <tr>\n",
       "      <th>1956</th>\n",
       "      <td>369.930267</td>\n",
       "      <td>274.933533</td>\n",
       "      <td>245.859390</td>\n",
       "      <td>-2.018961</td>\n",
       "      <td>-1.153596</td>\n",
       "      <td>-1.552221</td>\n",
       "      <td>0.845518</td>\n",
       "      <td>-2.397738</td>\n",
       "      <td>-0.865365</td>\n",
       "      <td>0.007252</td>\n",
       "      <td>-0.003024</td>\n",
       "    </tr>\n",
       "    <tr>\n",
       "      <th>16420</th>\n",
       "      <td>1619.508423</td>\n",
       "      <td>530.581055</td>\n",
       "      <td>211.206116</td>\n",
       "      <td>-1.667776</td>\n",
       "      <td>-2.422265</td>\n",
       "      <td>-1.043562</td>\n",
       "      <td>2.893902</td>\n",
       "      <td>-3.937464</td>\n",
       "      <td>0.754489</td>\n",
       "      <td>0.150207</td>\n",
       "      <td>-0.038148</td>\n",
       "    </tr>\n",
       "    <tr>\n",
       "      <th>13988</th>\n",
       "      <td>230.545197</td>\n",
       "      <td>89.523521</td>\n",
       "      <td>69.918022</td>\n",
       "      <td>0.484928</td>\n",
       "      <td>-2.223410</td>\n",
       "      <td>2.584542</td>\n",
       "      <td>3.318141</td>\n",
       "      <td>-0.733600</td>\n",
       "      <td>2.708339</td>\n",
       "      <td>-1.485883</td>\n",
       "      <td>2.025468</td>\n",
       "    </tr>\n",
       "    <tr>\n",
       "      <th>16062</th>\n",
       "      <td>2751.347412</td>\n",
       "      <td>596.682495</td>\n",
       "      <td>389.501404</td>\n",
       "      <td>0.890758</td>\n",
       "      <td>-1.960885</td>\n",
       "      <td>1.472539</td>\n",
       "      <td>-1.598294</td>\n",
       "      <td>3.070833</td>\n",
       "      <td>2.851643</td>\n",
       "      <td>-0.783240</td>\n",
       "      <td>-0.255058</td>\n",
       "    </tr>\n",
       "    <tr>\n",
       "      <th>37589</th>\n",
       "      <td>3315.580078</td>\n",
       "      <td>283.880951</td>\n",
       "      <td>184.758148</td>\n",
       "      <td>-0.962210</td>\n",
       "      <td>1.679076</td>\n",
       "      <td>-2.136457</td>\n",
       "      <td>-0.514513</td>\n",
       "      <td>-1.621943</td>\n",
       "      <td>-2.641286</td>\n",
       "      <td>0.066472</td>\n",
       "      <td>-0.040983</td>\n",
       "    </tr>\n",
       "    <tr>\n",
       "      <th>...</th>\n",
       "      <td>...</td>\n",
       "      <td>...</td>\n",
       "      <td>...</td>\n",
       "      <td>...</td>\n",
       "      <td>...</td>\n",
       "      <td>...</td>\n",
       "      <td>...</td>\n",
       "      <td>...</td>\n",
       "      <td>...</td>\n",
       "      <td>...</td>\n",
       "      <td>...</td>\n",
       "    </tr>\n",
       "    <tr>\n",
       "      <th>7719</th>\n",
       "      <td>906.568237</td>\n",
       "      <td>206.050537</td>\n",
       "      <td>119.012810</td>\n",
       "      <td>-0.554640</td>\n",
       "      <td>-3.082787</td>\n",
       "      <td>-2.503668</td>\n",
       "      <td>-0.210203</td>\n",
       "      <td>-2.293465</td>\n",
       "      <td>2.528147</td>\n",
       "      <td>2.283563</td>\n",
       "      <td>-0.995683</td>\n",
       "    </tr>\n",
       "    <tr>\n",
       "      <th>32112</th>\n",
       "      <td>1339.464478</td>\n",
       "      <td>365.374298</td>\n",
       "      <td>229.836914</td>\n",
       "      <td>-0.306225</td>\n",
       "      <td>-1.554461</td>\n",
       "      <td>-1.161640</td>\n",
       "      <td>-1.867742</td>\n",
       "      <td>0.706102</td>\n",
       "      <td>1.248236</td>\n",
       "      <td>2.642297</td>\n",
       "      <td>3.742091</td>\n",
       "    </tr>\n",
       "    <tr>\n",
       "      <th>17114</th>\n",
       "      <td>960.510559</td>\n",
       "      <td>344.379059</td>\n",
       "      <td>158.509491</td>\n",
       "      <td>-0.097564</td>\n",
       "      <td>1.787216</td>\n",
       "      <td>0.597945</td>\n",
       "      <td>-1.977224</td>\n",
       "      <td>2.575169</td>\n",
       "      <td>-1.884780</td>\n",
       "      <td>1.390014</td>\n",
       "      <td>0.539776</td>\n",
       "    </tr>\n",
       "    <tr>\n",
       "      <th>2011</th>\n",
       "      <td>1097.597656</td>\n",
       "      <td>232.911331</td>\n",
       "      <td>227.639420</td>\n",
       "      <td>-2.231267</td>\n",
       "      <td>0.839208</td>\n",
       "      <td>1.594891</td>\n",
       "      <td>-1.148356</td>\n",
       "      <td>2.743246</td>\n",
       "      <td>-3.070476</td>\n",
       "      <td>1.859934</td>\n",
       "      <td>0.678005</td>\n",
       "    </tr>\n",
       "    <tr>\n",
       "      <th>18042</th>\n",
       "      <td>2503.005127</td>\n",
       "      <td>198.061157</td>\n",
       "      <td>152.261200</td>\n",
       "      <td>2.361295</td>\n",
       "      <td>1.592240</td>\n",
       "      <td>-3.311460</td>\n",
       "      <td>-0.689857</td>\n",
       "      <td>-2.621604</td>\n",
       "      <td>0.769055</td>\n",
       "      <td>3.270370</td>\n",
       "      <td>-1.247469</td>\n",
       "    </tr>\n",
       "  </tbody>\n",
       "</table>\n",
       "<p>33881 rows × 11 columns</p>\n",
       "</div>"
      ],
      "text/plain": [
       "               mjj        ptj1        ptj2     phij1     phij2     etaj1  \\\n",
       "entry                                                                      \n",
       "1956    369.930267  274.933533  245.859390 -2.018961 -1.153596 -1.552221   \n",
       "16420  1619.508423  530.581055  211.206116 -1.667776 -2.422265 -1.043562   \n",
       "13988   230.545197   89.523521   69.918022  0.484928 -2.223410  2.584542   \n",
       "16062  2751.347412  596.682495  389.501404  0.890758 -1.960885  1.472539   \n",
       "37589  3315.580078  283.880951  184.758148 -0.962210  1.679076 -2.136457   \n",
       "...            ...         ...         ...       ...       ...       ...   \n",
       "7719    906.568237  206.050537  119.012810 -0.554640 -3.082787 -2.503668   \n",
       "32112  1339.464478  365.374298  229.836914 -0.306225 -1.554461 -1.161640   \n",
       "17114   960.510559  344.379059  158.509491 -0.097564  1.787216  0.597945   \n",
       "2011   1097.597656  232.911331  227.639420 -2.231267  0.839208  1.594891   \n",
       "18042  2503.005127  198.061157  152.261200  2.361295  1.592240 -3.311460   \n",
       "\n",
       "          etaj2    dEtajj    dPhijj    etas3l     zep3l  \n",
       "entry                                                    \n",
       "1956   0.845518 -2.397738 -0.865365  0.007252 -0.003024  \n",
       "16420  2.893902 -3.937464  0.754489  0.150207 -0.038148  \n",
       "13988  3.318141 -0.733600  2.708339 -1.485883  2.025468  \n",
       "16062 -1.598294  3.070833  2.851643 -0.783240 -0.255058  \n",
       "37589 -0.514513 -1.621943 -2.641286  0.066472 -0.040983  \n",
       "...         ...       ...       ...       ...       ...  \n",
       "7719  -0.210203 -2.293465  2.528147  2.283563 -0.995683  \n",
       "32112 -1.867742  0.706102  1.248236  2.642297  3.742091  \n",
       "17114 -1.977224  2.575169 -1.884780  1.390014  0.539776  \n",
       "2011  -1.148356  2.743246 -3.070476  1.859934  0.678005  \n",
       "18042 -0.689857 -2.621604  0.769055  3.270370 -1.247469  \n",
       "\n",
       "[33881 rows x 11 columns]"
      ]
     },
     "execution_count": 137,
     "metadata": {},
     "output_type": "execute_result"
    }
   ],
   "source": []
  },
  {
   "cell_type": "code",
   "execution_count": 803,
   "metadata": {},
   "outputs": [],
   "source": [
    "mod = xgb.XGBRegressor(\n",
    "    gamma=1,                 \n",
    "    learning_rate=0.01,\n",
    "    max_depth=8,\n",
    "    n_estimators=800,                                                                    \n",
    "    min_samples_leaf=800\n",
    ")"
   ]
  },
  {
   "cell_type": "code",
   "execution_count": 369,
   "metadata": {},
   "outputs": [],
   "source": [
    "from sklearn.ensemble import AdaBoostRegressor\n",
    "from sklearn.tree import DecisionTreeRegressor\n",
    "mod = AdaBoostRegressor(\n",
    "    learning_rate=0.01,\n",
    "    n_estimators=10000\n",
    ")"
   ]
  },
  {
   "cell_type": "code",
   "execution_count": 804,
   "metadata": {},
   "outputs": [
    {
     "name": "stdout",
     "output_type": "stream",
     "text": [
      "[21:45:38] WARNING: src/objective/regression_obj.cu:152: reg:linear is now deprecated in favor of reg:squarederror.\n"
     ]
    },
    {
     "data": {
      "text/plain": [
       "XGBRegressor(base_score=0.5, booster='gbtree', colsample_bylevel=1,\n",
       "             colsample_bynode=1, colsample_bytree=1, gamma=1,\n",
       "             importance_type='gain', learning_rate=0.01, max_delta_step=0,\n",
       "             max_depth=8, min_child_weight=1, min_samples_leaf=800,\n",
       "             missing=None, n_estimators=800, n_jobs=1, nthread=None,\n",
       "             objective='reg:linear', random_state=0, reg_alpha=0, reg_lambda=1,\n",
       "             scale_pos_weight=1, seed=None, silent=None, subsample=1,\n",
       "             verbosity=1)"
      ]
     },
     "execution_count": 804,
     "metadata": {},
     "output_type": "execute_result"
    }
   ],
   "source": [
    "mod.fit(X_train, y_train)"
   ]
  },
  {
   "cell_type": "code",
   "execution_count": 73,
   "metadata": {},
   "outputs": [],
   "source": []
  },
  {
   "cell_type": "code",
   "execution_count": 85,
   "metadata": {},
   "outputs": [],
   "source": []
  },
  {
   "cell_type": "code",
   "execution_count": 805,
   "metadata": {},
   "outputs": [
    {
     "name": "stdout",
     "output_type": "stream",
     "text": [
      "42736\n",
      "28289\n"
     ]
    }
   ],
   "source": [
    "predictions_ew = mod.predict(X_test_ew)\n",
    "predictions_qcd = mod.predict(X_test_qcd)\n",
    "print(len(predictions_ew))\n",
    "print(len(predictions_qcd))"
   ]
  },
  {
   "cell_type": "code",
   "execution_count": null,
   "metadata": {},
   "outputs": [],
   "source": []
  },
  {
   "cell_type": "code",
   "execution_count": 806,
   "metadata": {},
   "outputs": [
    {
     "data": {
      "text/plain": [
       "71025"
      ]
     },
     "execution_count": 806,
     "metadata": {},
     "output_type": "execute_result"
    }
   ],
   "source": [
    "predictions = mod.predict(X_test)\n",
    "len(predictions)"
   ]
  },
  {
   "cell_type": "code",
   "execution_count": 342,
   "metadata": {},
   "outputs": [],
   "source": [
    "import matplotlib.pyplot as plt"
   ]
  },
  {
   "cell_type": "code",
   "execution_count": 807,
   "metadata": {},
   "outputs": [
    {
     "data": {
      "text/plain": [
       "<matplotlib.legend.Legend at 0x13cb3fa50>"
      ]
     },
     "execution_count": 807,
     "metadata": {},
     "output_type": "execute_result"
    },
    {
     "data": {
      "image/png": "[encoded data removed]",
      "text/plain": [
       "<Figure size 432x288 with 1 Axes>"
      ]
     },
     "metadata": {
      "needs_background": "light"
     },
     "output_type": "display_data"
    }
   ],
   "source": [
    "plt.hist(predictions_qcd,alpha=0.5, label='QCD')\n",
    "plt.hist(predictions_ew,color='g', alpha=0.5,label='EW')\n",
    "plt.legend()"
   ]
  },
  {
   "cell_type": "code",
   "execution_count": 265,
   "metadata": {},
   "outputs": [],
   "source": [
    "from sklearn.metrics import roc_auc_score, confusion_matrix, accuracy_score\n",
    "import numpy"
   ]
  },
  {
   "cell_type": "code",
   "execution_count": 808,
   "metadata": {},
   "outputs": [
    {
     "name": "stdout",
     "output_type": "stream",
     "text": [
      "Roc score is 0.7771208776500114\n"
     ]
    }
   ],
   "source": [
    "cutoff = 0.0\n",
    "cat_predict = [1 if x > cutoff else -1 for x in predictions] \n",
    "print(\"Roc score is\", roc_auc_score(cat_predict, y_test))"
   ]
  },
  {
   "cell_type": "code",
   "execution_count": 809,
   "metadata": {},
   "outputs": [
    {
     "name": "stdout",
     "output_type": "stream",
     "text": [
      "[[20752  7636]\n",
      " [ 7537 35100]]\n",
      "\n",
      "Total QCD 28289\n",
      "-------------------------------\n",
      "QCD as QCD 20752 (73.36 percent)\n",
      "QCD as EW 7636 (26.99 percent)\n",
      "\n",
      "Total EW 42736\n",
      "-------------------------------\n",
      "EW as QCD 7537 (17.64 percent)\n",
      "EW as EW 35100 (82.13 percent)\n",
      "-------------------------------\n",
      "Overall accuracy 0.7863709961281239\n"
     ]
    }
   ],
   "source": [
    "tn, fp, fn, tp = confusion_matrix(cat_predict, y_test).ravel()\n",
    "print(confusion_matrix(cat_predict, y_test))\n",
    "tot_qcd = len(predictions_qcd)\n",
    "print(\"\\nTotal QCD\", tot_qcd)\n",
    "print(\"-------------------------------\")\n",
    "print(\"QCD as QCD\", tn, \"(%0.02f percent)\" % (tn/tot_qcd*100))\n",
    "print(\"QCD as EW\", fp, \"(%0.02f percent)\" % (fp/tot_qcd*100))\n",
    "\n",
    "tot_ew = len(predictions_ew)\n",
    "print(\"\\nTotal EW\", tot_ew)\n",
    "print(\"-------------------------------\")\n",
    "print(\"EW as QCD\", fn, \"(%0.02f percent)\" % (fn/tot_ew*100))\n",
    "print(\"EW as EW\", tp, \"(%0.02f percent)\" % (tp/tot_ew*100))\n",
    "print(\"-------------------------------\")\n",
    "print(\"Overall accuracy\", accuracy_score(cat_predict, y_test))"
   ]
  },
  {
   "cell_type": "code",
   "execution_count": 812,
   "metadata": {},
   "outputs": [
    {
     "name": "stdout",
     "output_type": "stream",
     "text": [
      "Rate of acceptance\n",
      "Signal 0.053188\n",
      "Background 0.00024935864026676515\n"
     ]
    }
   ],
   "source": [
    "cutoff = 0.5\n",
    "print(\"Rate of acceptance\")\n",
    "acc_rate_sig = len([x for x in filter(lambda x: x > cutoff, predictions_ew)])/(eventsProcessed(ewwz_file)*testsize)\n",
    "acc_rate_bkgd = len([x for x in filter(lambda x: x > cutoff, predictions_qcd)])/(eventsProcessed(qcdwz_file)*testsize)\n",
    "#acc_bkgd = testqcd_emm_wtruth[testqcd_emm_wtruth[\"prediction\"] > 0.9]\n",
    "print(\"Signal\", acc_rate_sig)\n",
    "print(\"Background\", acc_rate_bkgd)"
   ]
  },
  {
   "cell_type": "code",
   "execution_count": 813,
   "metadata": {},
   "outputs": [
    {
     "name": "stdout",
     "output_type": "stream",
     "text": [
      "Scaled by cross section and 36 fb-1\n",
      "Signal 33.50844\n",
      "Background 39.7677159497437\n"
     ]
    }
   ],
   "source": [
    "print(\"Scaled by cross section and 36 fb-1\")\n",
    "print(\"Signal\", acc_rate_sig*17.5*36)\n",
    "print(\"Background\", acc_rate_bkgd*4.43*1000*36)"
   ]
  },
  {
   "cell_type": "code",
   "execution_count": 818,
   "metadata": {},
   "outputs": [
    {
     "name": "stderr",
     "output_type": "stream",
     "text": [
      "/usr/local/lib/python3.7/site-packages/ipykernel_launcher.py:5: MatplotlibDeprecationWarning: \n",
      "The 'normed' kwarg was deprecated in Matplotlib 2.1 and will be removed in 3.1. Use 'density' instead.\n",
      "  \"\"\"\n",
      "/usr/local/lib/python3.7/site-packages/ipykernel_launcher.py:6: MatplotlibDeprecationWarning: \n",
      "The 'normed' kwarg was deprecated in Matplotlib 2.1 and will be removed in 3.1. Use 'density' instead.\n",
      "  \n"
     ]
    },
    {
     "data": {
      "image/png": "[encoded data removed]",
      "text/plain": [
       "<Figure size 432x288 with 1 Axes>"
      ]
     },
     "metadata": {
      "needs_background": "light"
     },
     "output_type": "display_data"
    }
   ],
   "source": [
    "X_test_ew[\"predict\"] = predictions_ew\n",
    "X_test_qcd[\"predict\"] = predictions_qcd\n",
    "ewklike = X_test_ew[(X_test_ew[\"predict\"] > 0.5) & (X_test_ew[\"mjj\"] < 1000)]\n",
    "ewklike_qcd = X_test_qcd[(X_test_qcd[\"predict\"] > 0.5) & (X_test_qcd[\"mjj\"] < 1000)]\n",
    "plt.hist(ewklike[\"mjj\"],alpha=0.5, label='EW', normed=True)\n",
    "plt.hist(ewklike_qcd[\"mjj\"],color='g', alpha=0.5,label='EW', normed=True)\n",
    "plt.show()"
   ]
  },
  {
   "cell_type": "code",
   "execution_count": 516,
   "metadata": {},
   "outputs": [],
   "source": [
    "import numpy as np"
   ]
  },
  {
   "cell_type": "code",
   "execution_count": 792,
   "metadata": {},
   "outputs": [
    {
     "name": "stdout",
     "output_type": "stream",
     "text": [
      "[ 4.5086976  1.8969984  2.5572096  3.7331712  6.1484544 14.1698304]\n",
      "[30.89099364  6.50421653  6.03617117  6.39124006  6.73016946  4.38994267]\n",
      "0.0006336\n",
      "0.008069747554736955\n"
     ]
    }
   ],
   "source": [
    "ewhist, bins = np.histogram(predictions_ew, bins=[0, 0.5, 0.6, 0.7, 0.8, 0.9, 2])\n",
    "qcdhist, bins = np.histogram(predictions_qcd, bins=[0, 0.5, 0.6, 0.7, 0.8, 0.9, 2])\n",
    "ewhist = ewhist*17.6*36/(eventsProcessed(ewwz_file)/2)\n",
    "qcdhist = qcdhist*4430*36/(eventsProcessed(qcdwz_file)/2)\n",
    "print(ewhist)\n",
    "print(qcdhist)\n",
    "print(17.6*36/eventsProcessed(ewwz_file))\n",
    "print(4430*36/eventsProcessed(qcdwz_file))"
   ]
  },
  {
   "cell_type": "code",
   "execution_count": 793,
   "metadata": {},
   "outputs": [
    {
     "name": "stdout",
     "output_type": "stream",
     "text": [
      "6\n",
      "7\n"
     ]
    },
    {
     "data": {
      "image/png": "[encoded data removed]",
      "text/plain": [
       "<Figure size 432x288 with 1 Axes>"
      ]
     },
     "metadata": {
      "needs_background": "light"
     },
     "output_type": "display_data"
    }
   ],
   "source": [
    "plt.hist(bins[:-1], weights=qcdhist, bins=bins, alpha=0.5)\n",
    "plt.hist(bins[:-1], weights=ewhist, bins=bins,color='g', alpha=0.5)\n",
    "print(len(ewhist))\n",
    "print(len(bins))"
   ]
  },
  {
   "cell_type": "code",
   "execution_count": 794,
   "metadata": {},
   "outputs": [
    {
     "name": "stdout",
     "output_type": "stream",
     "text": [
      "54953\n",
      "54953\n",
      "34.818220800000006\n",
      "\n",
      " 14271\n",
      "14271\n",
      "111.78385544485317\n"
     ]
    }
   ],
   "source": [
    "ew_processed = eventsProcessed(ewwz_file)\n",
    "qcd_processed = eventsProcessed(qcdwz_file)\n",
    "print(len(ew_df))\n",
    "print(len(ew_df[(ew_df.mjj > 500) & (abs(ew_df.dEtajj) > 2.5)]))\n",
    "print(len(ew_df[(ew_df.mjj > 500) & (abs(ew_df.dEtajj) > 2.5)])/ew_processed*17.6*36)\n",
    "\n",
    "print(\"\\n\", len(qcd_df))\n",
    "print(len(qcd_df[(qcd_df.mjj > 500) & (abs(qcd_df.dEtajj) > 2.5)]))\n",
    "print(len(qcd_df[(qcd_df.mjj > 500) & (abs(qcd_df.dEtajj) > 2.5)])/qcd_processed*4300*36)"
   ]
  },
  {
   "cell_type": "code",
   "execution_count": 602,
   "metadata": {},
   "outputs": [
    {
     "data": {
      "text/plain": [
       "1000000.0"
      ]
     },
     "execution_count": 602,
     "metadata": {},
     "output_type": "execute_result"
    }
   ],
   "source": [
    "qcd_processed"
   ]
  },
  {
   "cell_type": "code",
   "execution_count": 777,
   "metadata": {},
   "outputs": [],
   "source": [
    "import math\n",
    "def approxLikelihood(sig_hist, bkgd_hist):\n",
    "    term1 = 0\n",
    "    term2 = 0\n",
    "    for sig, bkgd in zip(sig_hist, bkgd_hist):\n",
    "        term1 += (sig+bkgd)*math.log(1+sig/bkgd)\n",
    "        term2 += sig\n",
    "    return math.sqrt(2*(term1 - term2))"
   ]
  },
  {
   "cell_type": "code",
   "execution_count": 605,
   "metadata": {},
   "outputs": [],
   "source": [
    "\n"
   ]
  },
  {
   "cell_type": "code",
   "execution_count": 795,
   "metadata": {
    "scrolled": true
   },
   "outputs": [
    {
     "name": "stdout",
     "output_type": "stream",
     "text": [
      "5.790755055527587\n"
     ]
    }
   ],
   "source": [
    "print(approxLikelihood(ewhist, qcdhist))"
   ]
  },
  {
   "cell_type": "code",
   "execution_count": 783,
   "metadata": {},
   "outputs": [],
   "source": [
    "ew_loose = ew_df[(ew_df.mjj > 500) & (abs(ew_df.dEtajj) > 2.5)]\n",
    "qcd_loose = qcd_df[(qcd_df.mjj > 500) & (abs(qcd_df.dEtajj) > 2.5)]\n",
    "ew_mjj_hist,bins = numpy.histogram(ew_loose[\"mjj\"], bins=[500,750,1000, 1250, 1500, 2000, 10000])\n",
    "qcd_mjj_hist,bins = numpy.histogram(qcd_loose[\"mjj\"], bins=[500,750,1000, 1250, 1500, 2000, 10000])\n",
    "ew_mjj_hist = ew_mjj_hist*17.6*36/eventsProcessed(ewwz_file)\n",
    "qcd_mjj_hist = qcd_mjj_hist*4300*36/eventsProcessed(qcdwz_file)"
   ]
  },
  {
   "cell_type": "code",
   "execution_count": 784,
   "metadata": {},
   "outputs": [
    {
     "data": {
      "text/plain": [
       "(array([6.8751936, 6.266304 , 5.1410304, 4.0746816, 5.4540288, 7.0063488]),\n",
       " array([  500,   750,  1000,  1250,  1500,  2000, 10000]),\n",
       " <a list of 6 Patch objects>)"
      ]
     },
     "execution_count": 784,
     "metadata": {},
     "output_type": "execute_result"
    },
    {
     "data": {
      "image/png": "[encoded data removed]",
      "text/plain": [
       "<Figure size 432x288 with 1 Axes>"
      ]
     },
     "metadata": {
      "needs_background": "light"
     },
     "output_type": "display_data"
    }
   ],
   "source": [
    "plt.hist(bins[:-1], weights=qcd_mjj_hist, bins=bins, alpha=0.5)\n",
    "plt.hist(bins[:-1], weights=ew_mjj_hist, bins=bins, alpha=0.5, color='g')"
   ]
  },
  {
   "cell_type": "code",
   "execution_count": 785,
   "metadata": {},
   "outputs": [
    {
     "name": "stdout",
     "output_type": "stream",
     "text": [
      "4.438671382301406\n"
     ]
    },
    {
     "data": {
      "text/plain": [
       "6"
      ]
     },
     "execution_count": 785,
     "metadata": {},
     "output_type": "execute_result"
    }
   ],
   "source": [
    "print(approxLikelihood(ew_mjj_hist, qcd_mjj_hist))\n",
    "len(ew_mjj_hist)"
   ]
  },
  {
   "cell_type": "code",
   "execution_count": 796,
   "metadata": {},
   "outputs": [
    {
     "name": "stdout",
     "output_type": "stream",
     "text": [
      "1.3046145021272422\n"
     ]
    }
   ],
   "source": [
    "print(approxLikelihood(ewhist, qcdhist)/approxLikelihood(ew_mjj_hist, qcd_mjj_hist))"
   ]
  },
  {
   "cell_type": "code",
   "execution_count": 787,
   "metadata": {},
   "outputs": [
    {
     "name": "stdout",
     "output_type": "stream",
     "text": [
      "Processed QCD 19762700.0\n",
      "Accepted loose QCD 14271\n"
     ]
    }
   ],
   "source": [
    "print(\"Processed QCD\", qcd_processed)\n",
    "print(\"Accepted loose QCD\", len(qcd_loose))"
   ]
  },
  {
   "cell_type": "code",
   "execution_count": 828,
   "metadata": {},
   "outputs": [],
   "source": [
    "ew_bdt = X_test_ew[(X_test_ew.mjj > 500) & (abs(X_test_ew.dEtajj) > 2.5)]\n",
    "ew_bdt = X_test_qcd[(X_test_qcd.mjj > 500) & (abs(X_test_qcd.dEtajj) > 2.5)]\n",
    "ew_bdtTight_hist,bins = numpy.histogram(X_test_ew[\"predict\"])\n",
    "qcd_bdtTight_hist,bins = numpy.histogram(X_test_qcd[\"predict\"])\n",
    "#ew_bdtTight_hist = ew_bdtTight_hist*17.6*36/(eventsProcessed(ewwz_file)*testsize)\n",
    "#qcd_bdtTight_hist = qcd_bdtTight_hist*4300*36/(eventsProcessed(qcdwz_file)*testsize)"
   ]
  },
  {
   "cell_type": "code",
   "execution_count": 829,
   "metadata": {},
   "outputs": [
    {
     "data": {
      "text/plain": [
       "(array([ 857., 4276., 5587., 5204., 3925., 2790., 2185., 1610., 1285.,\n",
       "         570.]),\n",
       " array([-1.1520877 , -0.934006  , -0.71592426, -0.49784255, -0.27976084,\n",
       "        -0.06167912,  0.15640259,  0.3744843 ,  0.592566  ,  0.8106477 ,\n",
       "         1.0287294 ], dtype=float32),\n",
       " <a list of 10 Patch objects>)"
      ]
     },
     "execution_count": 829,
     "metadata": {},
     "output_type": "execute_result"
    },
    {
     "data": {
      "image/png": "[encoded data removed]",
      "text/plain": [
       "<Figure size 432x288 with 1 Axes>"
      ]
     },
     "metadata": {
      "needs_background": "light"
     },
     "output_type": "display_data"
    }
   ],
   "source": [
    "plt.hist(bins[:-1], weights=ew_bdtTight_hist, bins=bins, alpha=0.5, color='g', label='EW')\n",
    "plt.hist(bins[:-1], weights=qcd_bdtTight_hist, bins=bins, alpha=0.5, label='QCD')"
   ]
  },
  {
   "cell_type": "code",
   "execution_count": 837,
   "metadata": {},
   "outputs": [],
   "source": [
    "bins=[0,250,500,1000,1250,1500,2000]\n",
    "ew_mjj_bdtTight_hist,bins = numpy.histogram(X_test_ew[X_test_ew.predict > 0.5][\"mjj\"], bins=bins)\n",
    "qcd_mjj_bdtTight_hist,bins = numpy.histogram(X_test_qcd[X_test_qcd.predict > 0.5][\"mjj\"], bins=bins)\n",
    "ew_mjj_bdtTight_hist = ew_mjj_bdtTight_hist*17.6*36/(eventsProcessed(ewwz_file)*testsize)\n",
    "qcd_mjj_bdtTight_hist = qcd_mjj_bdtTight_hist*4300*36/(eventsProcessed(qcdwz_file)*testsize)"
   ]
  },
  {
   "cell_type": "code",
   "execution_count": 838,
   "metadata": {},
   "outputs": [
    {
     "data": {
      "text/plain": [
       "(array([ 0.125327  ,  3.77547602, 19.47268339,  6.26635025,  3.18017275,\n",
       "         3.58748552]),\n",
       " array([   0,  250,  500, 1000, 1250, 1500, 2000]),\n",
       " <a list of 6 Patch objects>)"
      ]
     },
     "execution_count": 838,
     "metadata": {},
     "output_type": "execute_result"
    },
    {
     "data": {
      "image/png": "[encoded data removed]",
      "text/plain": [
       "<Figure size 432x288 with 1 Axes>"
      ]
     },
     "metadata": {
      "needs_background": "light"
     },
     "output_type": "display_data"
    }
   ],
   "source": [
    "plt.hist(bins[:-1], weights=ew_mjj_bdtTight_hist, bins=bins, alpha=0.5, color='g', label='EW')\n",
    "plt.hist(bins[:-1], weights=qcd_mjj_bdtTight_hist, bins=bins, alpha=0.5, label='QCD')"
   ]
  },
  {
   "cell_type": "code",
   "execution_count": 839,
   "metadata": {},
   "outputs": [],
   "source": [
    "bins=[0,1,2,3,4,5,6]\n",
    "ew_mjj_bdtTight_hist,bins = numpy.histogram(abs(X_test_ew[X_test_ew.predict > 0.5][\"dEtajj\"]), bins=bins)\n",
    "qcd_mjj_bdtTight_hist,bins = numpy.histogram(abs(X_test_qcd[X_test_qcd.predict > 0.5][\"dEtajj\"]), bins=bins)\n",
    "ew_mjj_bdtTight_hist = ew_etajj_bdtTight_hist*17.6*36/(eventsProcessed(ewwz_file)*testsize)\n",
    "qcd_mjj_bdtTight_hist = qcd_etajj_bdtTight_hist*4300*36/(eventsProcessed(qcdwz_file)*testsize)"
   ]
  },
  {
   "cell_type": "code",
   "execution_count": null,
   "metadata": {},
   "outputs": [],
   "source": [
    "plt.hist(bins[:-1], weights=ew_mjj_bdtTight_hist, bins=bins, alpha=0.5, color='g', label='EW')\n",
    "plt.hist(bins[:-1], weights=qcd_mjj_bdtTight_hist, bins=bins, alpha=0.5, label='QCD')"
   ]
  }
 ],
 "metadata": {
  "kernelspec": {
   "display_name": "Python 3",
   "language": "python",
   "name": "python3"
  },
  "language_info": {
   "codemirror_mode": {
    "name": "ipython",
    "version": 3
   },
   "file_extension": ".py",
   "mimetype": "text/x-python",
   "name": "python",
   "nbconvert_exporter": "python",
   "pygments_lexer": "ipython3",
   "version": "3.7.5"
  }
 },
 "nbformat": 4,
 "nbformat_minor": 2
}
