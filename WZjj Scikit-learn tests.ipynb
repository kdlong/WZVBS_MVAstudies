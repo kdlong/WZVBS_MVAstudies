{
 "cells": [
  {
   "cell_type": "code",
   "execution_count": 6,
   "metadata": {},
   "outputs": [],
   "source": [
    "import uproot"
   ]
  },
  {
   "cell_type": "code",
   "execution_count": 23,
   "metadata": {},
   "outputs": [],
   "source": [
    "traindata_qcd = uproot.open(\"Data/2018-04-29-wz3lnu-powheg-WZxsec2016-3MediumLeptonsNoVetoToWselection-v1/skim-ed3d461a4db43003ec5b84aa79b51ac0.root\")\n",
    "traindata_ew = uproot.open(\"Data/2018-04-29-wlljj-ewk-WZxsec2016-3MediumLeptonsNoVetoToWselection-v1/skim-dc1e0bb8be4e72b890a589fcd43127d4.root\")"
   ]
  },
  {
   "cell_type": "code",
   "execution_count": 24,
   "metadata": {},
   "outputs": [],
   "source": [
    "train_ew_emm = traindata_ew[\"emm\"][\"ntuple\"]\n",
    "train_ewframe_emm = train_ew_emm.pandas.df([\"Mass\", \"mjj\", \"ePt\", \"m1Pt\", \"m2Pt\"])\n",
    "train_qcd_emm = traindata_qcd[\"emm\"][\"ntuple\"]\n",
    "train_qcdframe_emm = train_qcd_emm.pandas.df([\"Mass\", \"mjj\", \"ePt\", \"m1Pt\", \"m2Pt\"])"
   ]
  },
  {
   "cell_type": "code",
   "execution_count": 33,
   "metadata": {},
   "outputs": [
    {
     "name": "stdout",
     "output_type": "stream",
     "text": [
      "             Mass          mjj        ePt        m1Pt       m2Pt  isSignal\n",
      "entry                                                                     \n",
      "4      147.264038   332.124359  23.001898   65.523987  53.019188         0\n",
      "15     205.972809   140.590454  40.687618   85.717812  64.840401         0\n",
      "19     165.746826   427.765991  52.059391   70.461761  45.802940         0\n",
      "21     221.640411   116.514404  61.825382  209.748001  31.917673         0\n",
      "24     173.499359   780.812622  34.268398   60.492981  42.486507         0\n",
      "...           ...          ...        ...         ...        ...       ...\n",
      "2238   149.483597  2720.599609  46.162487  158.445679  28.287703         0\n",
      "2241   192.937454   407.194275  40.375122   78.619743  20.840229         0\n",
      "2245   132.238022   121.424286  26.454046   51.421230  38.410023         0\n",
      "2257   144.270065   255.374557  92.161888   68.549202  51.246517         0\n",
      "2260   120.516914   424.608917  27.790937   97.195793  42.394020         0\n",
      "\n",
      "[386 rows x 6 columns]\n",
      "             Mass          mjj         ePt        m1Pt       m2Pt  isSignal\n",
      "entry                                                                      \n",
      "0      140.262024  2903.871582   21.469595  120.051598  20.740955         1\n",
      "1      230.447418  1086.802246   51.176846   43.499329  40.832218         1\n",
      "3      331.813293   607.694702   88.261200  181.941208  68.676140         1\n",
      "4      211.881607  1162.837036   91.500999   79.324493  25.061037         1\n",
      "5      120.463028   138.688171   26.481632   88.261650  47.582901         1\n",
      "...           ...          ...         ...         ...        ...       ...\n",
      "3751   143.419312  1261.926514   29.080303   63.232376  22.834642         1\n",
      "3753   707.204529   839.346680  117.714828  707.427979  54.934601         1\n",
      "3754   294.739990  2213.738281  205.340805  201.849472  56.769314         1\n",
      "3755   597.089355   791.008606  187.743149  235.950211  92.150726         1\n",
      "3756   139.268448   413.967072   59.115574  128.004379  17.577553         1\n",
      "\n",
      "[3200 rows x 6 columns]\n"
     ]
    }
   ],
   "source": [
    "train_ewframe_emm = train_ewframe_emm[train_ewframe_emm[\"mjj\"]>100]\n",
    "train_ewframe_emm[\"isSignal\"] = 1\n",
    "train_qcdframe_emm = train_qcdframe_emm[train_qcdframe_emm[\"mjj\"]>100]\n",
    "train_qcdframe_emm[\"isSignal\"] = 0\n",
    "print(train_qcdframe_emm)\n",
    "print(train_ewframe_emm)"
   ]
  },
  {
   "cell_type": "code",
   "execution_count": 36,
   "metadata": {},
   "outputs": [
    {
     "data": {
      "text/html": [
       "<div>\n",
       "<style scoped>\n",
       "    .dataframe tbody tr th:only-of-type {\n",
       "        vertical-align: middle;\n",
       "    }\n",
       "\n",
       "    .dataframe tbody tr th {\n",
       "        vertical-align: top;\n",
       "    }\n",
       "\n",
       "    .dataframe thead th {\n",
       "        text-align: right;\n",
       "    }\n",
       "</style>\n",
       "<table border=\"1\" class=\"dataframe\">\n",
       "  <thead>\n",
       "    <tr style=\"text-align: right;\">\n",
       "      <th></th>\n",
       "      <th>Mass</th>\n",
       "      <th>mjj</th>\n",
       "      <th>ePt</th>\n",
       "      <th>m1Pt</th>\n",
       "      <th>m2Pt</th>\n",
       "      <th>isSignal</th>\n",
       "    </tr>\n",
       "    <tr>\n",
       "      <th>entry</th>\n",
       "      <th></th>\n",
       "      <th></th>\n",
       "      <th></th>\n",
       "      <th></th>\n",
       "      <th></th>\n",
       "      <th></th>\n",
       "    </tr>\n",
       "  </thead>\n",
       "  <tbody>\n",
       "    <tr>\n",
       "      <th>0</th>\n",
       "      <td>140.262024</td>\n",
       "      <td>2903.871582</td>\n",
       "      <td>21.469595</td>\n",
       "      <td>120.051598</td>\n",
       "      <td>20.740955</td>\n",
       "      <td>1</td>\n",
       "    </tr>\n",
       "    <tr>\n",
       "      <th>1</th>\n",
       "      <td>230.447418</td>\n",
       "      <td>1086.802246</td>\n",
       "      <td>51.176846</td>\n",
       "      <td>43.499329</td>\n",
       "      <td>40.832218</td>\n",
       "      <td>1</td>\n",
       "    </tr>\n",
       "    <tr>\n",
       "      <th>3</th>\n",
       "      <td>331.813293</td>\n",
       "      <td>607.694702</td>\n",
       "      <td>88.261200</td>\n",
       "      <td>181.941208</td>\n",
       "      <td>68.676140</td>\n",
       "      <td>1</td>\n",
       "    </tr>\n",
       "    <tr>\n",
       "      <th>4</th>\n",
       "      <td>211.881607</td>\n",
       "      <td>1162.837036</td>\n",
       "      <td>91.500999</td>\n",
       "      <td>79.324493</td>\n",
       "      <td>25.061037</td>\n",
       "      <td>1</td>\n",
       "    </tr>\n",
       "    <tr>\n",
       "      <th>5</th>\n",
       "      <td>120.463028</td>\n",
       "      <td>138.688171</td>\n",
       "      <td>26.481632</td>\n",
       "      <td>88.261650</td>\n",
       "      <td>47.582901</td>\n",
       "      <td>1</td>\n",
       "    </tr>\n",
       "    <tr>\n",
       "      <th>...</th>\n",
       "      <td>...</td>\n",
       "      <td>...</td>\n",
       "      <td>...</td>\n",
       "      <td>...</td>\n",
       "      <td>...</td>\n",
       "      <td>...</td>\n",
       "    </tr>\n",
       "    <tr>\n",
       "      <th>2238</th>\n",
       "      <td>149.483597</td>\n",
       "      <td>2720.599609</td>\n",
       "      <td>46.162487</td>\n",
       "      <td>158.445679</td>\n",
       "      <td>28.287703</td>\n",
       "      <td>0</td>\n",
       "    </tr>\n",
       "    <tr>\n",
       "      <th>2241</th>\n",
       "      <td>192.937454</td>\n",
       "      <td>407.194275</td>\n",
       "      <td>40.375122</td>\n",
       "      <td>78.619743</td>\n",
       "      <td>20.840229</td>\n",
       "      <td>0</td>\n",
       "    </tr>\n",
       "    <tr>\n",
       "      <th>2245</th>\n",
       "      <td>132.238022</td>\n",
       "      <td>121.424286</td>\n",
       "      <td>26.454046</td>\n",
       "      <td>51.421230</td>\n",
       "      <td>38.410023</td>\n",
       "      <td>0</td>\n",
       "    </tr>\n",
       "    <tr>\n",
       "      <th>2257</th>\n",
       "      <td>144.270065</td>\n",
       "      <td>255.374557</td>\n",
       "      <td>92.161888</td>\n",
       "      <td>68.549202</td>\n",
       "      <td>51.246517</td>\n",
       "      <td>0</td>\n",
       "    </tr>\n",
       "    <tr>\n",
       "      <th>2260</th>\n",
       "      <td>120.516914</td>\n",
       "      <td>424.608917</td>\n",
       "      <td>27.790937</td>\n",
       "      <td>97.195793</td>\n",
       "      <td>42.394020</td>\n",
       "      <td>0</td>\n",
       "    </tr>\n",
       "  </tbody>\n",
       "</table>\n",
       "<p>3586 rows × 6 columns</p>\n",
       "</div>"
      ],
      "text/plain": [
       "             Mass          mjj        ePt        m1Pt       m2Pt  isSignal\n",
       "entry                                                                     \n",
       "0      140.262024  2903.871582  21.469595  120.051598  20.740955         1\n",
       "1      230.447418  1086.802246  51.176846   43.499329  40.832218         1\n",
       "3      331.813293   607.694702  88.261200  181.941208  68.676140         1\n",
       "4      211.881607  1162.837036  91.500999   79.324493  25.061037         1\n",
       "5      120.463028   138.688171  26.481632   88.261650  47.582901         1\n",
       "...           ...          ...        ...         ...        ...       ...\n",
       "2238   149.483597  2720.599609  46.162487  158.445679  28.287703         0\n",
       "2241   192.937454   407.194275  40.375122   78.619743  20.840229         0\n",
       "2245   132.238022   121.424286  26.454046   51.421230  38.410023         0\n",
       "2257   144.270065   255.374557  92.161888   68.549202  51.246517         0\n",
       "2260   120.516914   424.608917  27.790937   97.195793  42.394020         0\n",
       "\n",
       "[3586 rows x 6 columns]"
      ]
     },
     "execution_count": 36,
     "metadata": {},
     "output_type": "execute_result"
    }
   ],
   "source": [
    "import pandas\n",
    "train_emm = pandas.concat([train_ewframe_emm,train_qcdframe_emm])\n",
    "train_emm"
   ]
  },
  {
   "cell_type": "code",
   "execution_count": 21,
   "metadata": {},
   "outputs": [],
   "source": [
    "import xgboost as xgb"
   ]
  },
  {
   "cell_type": "code",
   "execution_count": 66,
   "metadata": {},
   "outputs": [],
   "source": [
    "target = train_emm[\"isSignal\"]\n",
    "train = train_emm.drop([\"isSignal\"], axis=1)"
   ]
  },
  {
   "cell_type": "code",
   "execution_count": 67,
   "metadata": {},
   "outputs": [],
   "source": [
    "mod = xgb.XGBRegressor(\n",
    "    gamma=1,                 \n",
    "    learning_rate=0.01,\n",
    "    max_depth=3,\n",
    "    n_estimators=10000,                                                                    \n",
    "    subsample=0.8,\n",
    "    random_state=34\n",
    ")"
   ]
  },
  {
   "cell_type": "code",
   "execution_count": 69,
   "metadata": {},
   "outputs": [
    {
     "name": "stdout",
     "output_type": "stream",
     "text": [
      "[23:45:50] WARNING: src/objective/regression_obj.cu:152: reg:linear is now deprecated in favor of reg:squarederror.\n"
     ]
    },
    {
     "data": {
      "text/plain": [
       "XGBRegressor(base_score=0.5, booster='gbtree', colsample_bylevel=1,\n",
       "             colsample_bynode=1, colsample_bytree=1, gamma=1,\n",
       "             importance_type='gain', learning_rate=0.01, max_delta_step=0,\n",
       "             max_depth=3, min_child_weight=1, missing=None, n_estimators=10000,\n",
       "             n_jobs=1, nthread=None, objective='reg:linear', random_state=34,\n",
       "             reg_alpha=0, reg_lambda=1, scale_pos_weight=1, seed=None,\n",
       "             silent=None, subsample=0.8, verbosity=1)"
      ]
     },
     "execution_count": 69,
     "metadata": {},
     "output_type": "execute_result"
    }
   ],
   "source": [
    "mod.fit(train, target)"
   ]
  },
  {
   "cell_type": "code",
   "execution_count": 73,
   "metadata": {},
   "outputs": [],
   "source": [
    "test_qcd = uproot.open(\"2018-04-29-wz3lnu-powheg-WZxsec2016-3MediumLeptonsNoVetoToWselection-v1/skim-b931afe5b58e05ef586f7591e9342b2a.root\")\n",
    "test_qcd_emm = test_qcd[\"emm\"][\"ntuple\"]\n",
    "test_qcdframe_emm = test_qcd_emm.pandas.df([\"Mass\", \"mjj\", \"ePt\", \"m1Pt\", \"m2Pt\"])\n",
    "test_qcdframe_emm = test_qcdframe_emm[test_qcdframe_emm[\"mjj\"]>100]"
   ]
  },
  {
   "cell_type": "code",
   "execution_count": 85,
   "metadata": {},
   "outputs": [],
   "source": [
    "test_ew = uproot.open(\"2018-04-29-wlljj-ewk-WZxsec2016-3MediumLeptonsNoVetoToWselection-v1/skim-90b187551c9ca8e622d48716c12d8cb8.root\")\n",
    "test_ew_emm = test_ew[\"emm\"][\"ntuple\"]\n",
    "test_ewframe_emm = test_ew_emm.pandas.df([\"Mass\", \"mjj\", \"ePt\", \"m1Pt\", \"m2Pt\"])\n",
    "test_ewframe_emm = test_ewframe_emm[test_ewframe_emm[\"mjj\"]>100]"
   ]
  },
  {
   "cell_type": "code",
   "execution_count": 79,
   "metadata": {},
   "outputs": [],
   "source": [
    "predictions_qcd = mod.predict(test_qcdframe_emm)"
   ]
  },
  {
   "cell_type": "code",
   "execution_count": 86,
   "metadata": {},
   "outputs": [],
   "source": [
    "predictions_ew = mod.predict(test_ewframe_emm)"
   ]
  },
  {
   "cell_type": "code",
   "execution_count": 83,
   "metadata": {},
   "outputs": [],
   "source": [
    "import matplotlib.pyplot as plt"
   ]
  },
  {
   "cell_type": "code",
   "execution_count": 92,
   "metadata": {},
   "outputs": [
    {
     "data": {
      "text/plain": [
       "<matplotlib.legend.Legend at 0x12ba245d0>"
      ]
     },
     "execution_count": 92,
     "metadata": {},
     "output_type": "execute_result"
    },
    {
     "data": {
      "image/png": "[encoded data removed]",
      "text/plain": [
       "<Figure size 432x288 with 1 Axes>"
      ]
     },
     "metadata": {
      "needs_background": "light"
     },
     "output_type": "display_data"
    }
   ],
   "source": [
    "plt.hist(predictions_qcd,alpha=0.5,label='QCD')\n",
    "plt.hist(predictions_ew,color='g', alpha=0.5,label='EW')\n",
    "plt.legend()"
   ]
  },
  {
   "cell_type": "code",
   "execution_count": 97,
   "metadata": {},
   "outputs": [],
   "source": [
    "from sklearn.metrics import roc_auc_score\n",
    "testew_emm_wtruth = test_ewframe_emm.copy()\n",
    "testew_emm_wtruth[\"isSignal\"] = 1\n",
    "testqcd_emm_wtruth = test_qcdframe_emm.copy()\n",
    "testqcd_emm_wtruth[\"isSignal\"] = 0"
   ]
  },
  {
   "cell_type": "code",
   "execution_count": 120,
   "metadata": {},
   "outputs": [],
   "source": [
    "test_values = pandas.concat([testqcd_emm_wtruth[[\"isSignal\"]],testew_emm_wtruth[[\"isSignal\"]]])\n",
    "test_data = pandas.concat([test_qcdframe_emm, test_ewframe_emm])"
   ]
  },
  {
   "cell_type": "code",
   "execution_count": 123,
   "metadata": {},
   "outputs": [],
   "source": [
    "testew_emm_wtruth[\"prediction\"] = predictions_ew\n",
    "testqcd_emm_wtruth[\"prediction\"] = predictions_qcd"
   ]
  },
  {
   "cell_type": "code",
   "execution_count": 147,
   "metadata": {},
   "outputs": [
    {
     "name": "stdout",
     "output_type": "stream",
     "text": [
      "Rate of acceptance\n",
      "Signal 0.07745541655576257\n",
      "Background 0.03437637725870427\n"
     ]
    }
   ],
   "source": [
    "print(\"Rate of acceptance\")\n",
    "acc_sig = testew_emm_wtruth[testew_emm_wtruth[\"prediction\"] > 0.9]\n",
    "infile_sig = train_ew_emm.pandas.df([\"genWeight\"])\n",
    "acc_bkgd = testqcd_emm_wtruth[testqcd_emm_wtruth[\"prediction\"] > 0.9]\n",
    "infile_bkgd = train_qcd_emm.pandas.df([\"genWeight\"])\n",
    "acc_rate_sig = len(acc_sig)/len(infile_sig)\n",
    "acc_rate_bkgd = len(acc_bkgd)/len(infile_bkgd)\n",
    "print(\"Signal\", acc_rate_sig)\n",
    "print(\"Background\", acc_rate_bkgd)"
   ]
  },
  {
   "cell_type": "code",
   "execution_count": 150,
   "metadata": {},
   "outputs": [
    {
     "name": "stdout",
     "output_type": "stream",
     "text": [
      "Scaled by cross section\n",
      "Signal 0.6015866020273247\n"
     ]
    }
   ],
   "source": [
    "print(\"Scaled by cross section\")\n",
    "print(\"Signal\", acc_rate_bkgd*17.5)"
   ]
  },
  {
   "cell_type": "code",
   "execution_count": 142,
   "metadata": {},
   "outputs": [
    {
     "data": {
      "text/html": [
       "<div>\n",
       "<style scoped>\n",
       "    .dataframe tbody tr th:only-of-type {\n",
       "        vertical-align: middle;\n",
       "    }\n",
       "\n",
       "    .dataframe tbody tr th {\n",
       "        vertical-align: top;\n",
       "    }\n",
       "\n",
       "    .dataframe thead th {\n",
       "        text-align: right;\n",
       "    }\n",
       "</style>\n",
       "<table border=\"1\" class=\"dataframe\">\n",
       "  <thead>\n",
       "    <tr style=\"text-align: right;\">\n",
       "      <th></th>\n",
       "      <th>genWeight</th>\n",
       "    </tr>\n",
       "    <tr>\n",
       "      <th>entry</th>\n",
       "      <th></th>\n",
       "    </tr>\n",
       "  </thead>\n",
       "  <tbody>\n",
       "    <tr>\n",
       "      <th>0</th>\n",
       "      <td>1.0</td>\n",
       "    </tr>\n",
       "    <tr>\n",
       "      <th>1</th>\n",
       "      <td>1.0</td>\n",
       "    </tr>\n",
       "    <tr>\n",
       "      <th>2</th>\n",
       "      <td>1.0</td>\n",
       "    </tr>\n",
       "    <tr>\n",
       "      <th>3</th>\n",
       "      <td>1.0</td>\n",
       "    </tr>\n",
       "    <tr>\n",
       "      <th>4</th>\n",
       "      <td>1.0</td>\n",
       "    </tr>\n",
       "    <tr>\n",
       "      <th>...</th>\n",
       "      <td>...</td>\n",
       "    </tr>\n",
       "    <tr>\n",
       "      <th>2264</th>\n",
       "      <td>1.0</td>\n",
       "    </tr>\n",
       "    <tr>\n",
       "      <th>2265</th>\n",
       "      <td>1.0</td>\n",
       "    </tr>\n",
       "    <tr>\n",
       "      <th>2266</th>\n",
       "      <td>1.0</td>\n",
       "    </tr>\n",
       "    <tr>\n",
       "      <th>2267</th>\n",
       "      <td>1.0</td>\n",
       "    </tr>\n",
       "    <tr>\n",
       "      <th>2268</th>\n",
       "      <td>1.0</td>\n",
       "    </tr>\n",
       "  </tbody>\n",
       "</table>\n",
       "<p>2269 rows × 1 columns</p>\n",
       "</div>"
      ],
      "text/plain": [
       "       genWeight\n",
       "entry           \n",
       "0            1.0\n",
       "1            1.0\n",
       "2            1.0\n",
       "3            1.0\n",
       "4            1.0\n",
       "...          ...\n",
       "2264         1.0\n",
       "2265         1.0\n",
       "2266         1.0\n",
       "2267         1.0\n",
       "2268         1.0\n",
       "\n",
       "[2269 rows x 1 columns]"
      ]
     },
     "execution_count": 142,
     "metadata": {},
     "output_type": "execute_result"
    }
   ],
   "source": []
  },
  {
   "cell_type": "code",
   "execution_count": null,
   "metadata": {},
   "outputs": [],
   "source": []
  }
 ],
 "metadata": {
  "kernelspec": {
   "display_name": "Python 3",
   "language": "python",
   "name": "python3"
  },
  "language_info": {
   "codemirror_mode": {
    "name": "ipython",
    "version": 3
   },
   "file_extension": ".py",
   "mimetype": "text/x-python",
   "name": "python",
   "nbconvert_exporter": "python",
   "pygments_lexer": "ipython3",
   "version": "3.7.4"
  }
 },
 "nbformat": 4,
 "nbformat_minor": 2
}
